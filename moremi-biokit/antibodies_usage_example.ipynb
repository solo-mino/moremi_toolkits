{
 "cells": [
  {
   "cell_type": "markdown",
   "metadata": {},
   "source": [
    "## Imports and Setup"
   ]
  },
  {
   "cell_type": "code",
   "execution_count": 2,
   "metadata": {},
   "outputs": [],
   "source": [
    "from pathlib import Path\n",
    "import pandas as pd\n",
    "import logging\n",
    "\n",
    "# Configure basic logging for the notebook\n",
    "logging.basicConfig(level=logging.INFO, format='%(asctime)s - %(levelname)s - %(message)s')\n",
    "\n",
    "# Imports from moremi_biokit.proteins\n",
    "from moremi_biokit.proteins import (\n",
    "    BatchProteinProcessor,\n",
    "    ProteinValidator,\n",
    "    ProteinRanker,\n",
    "    ScoringConfig,       # For custom scoring (optional)\n",
    "    MetricCategory,      # For understanding metrics (optional)\n",
    ")\n",
    "\n",
    "from moremi_biokit.pdb_fetcher import(\n",
    "    list_internal_pdb_ids\n",
    ")\n",
    "\n",
    "# Pandas display options\n",
    "pd.set_option('display.max_columns', 50)\n",
    "pd.set_option('display.width', 1000)"
   ]
  },
  {
   "cell_type": "markdown",
   "metadata": {},
   "source": [
    "## Define Output Directory and Example Sequences"
   ]
  },
  {
   "cell_type": "code",
   "execution_count": 3,
   "metadata": {},
   "outputs": [
    {
     "name": "stdout",
     "output_type": "stream",
     "text": [
      "Output directory for this notebook: /home/mino_solo/moremi_toolkits/components/moremi-biokit/protein_notebook_outputs\n",
      "\n",
      "Created dummy sequence file: protein_notebook_outputs/example_proteins.fasta\n",
      "\n",
      "Some available internal antigen PDB IDs:\n",
      "['6mpv', 'ANZ81575.1 PstS', 'CAA48354.1 HBV', 'CAA87404.1', 'CCE35749.1 mmpL3']\n"
     ]
    }
   ],
   "source": [
    "# Define a directory to store results from this notebook\n",
    "NOTEBOOK_OUTPUT_DIR = Path(\"protein_notebook_outputs\")\n",
    "NOTEBOOK_OUTPUT_DIR.mkdir(parents=True, exist_ok=True)\n",
    "print(f\"Output directory for this notebook: {NOTEBOOK_OUTPUT_DIR.resolve()}\\n\")\n",
    "\n",
    "# Example protein sequences\n",
    "protein_sequences_list = [\n",
    "    {\n",
    "        \"name\": \"AB_001_Heavy\",\n",
    "        \"sequence\": \"EVQLVESGGGLVQPGGSLRLSCAASGFTFSSYAMSWVRQAPGKGLEWVSAISGSGGSTYYADSVKGRFTISRDNSKNTLYLQMNSLRAEDTAVYYCAKAGISGSGGSYFDYWGQGTLVTVSS\",\n",
    "        \"antigen_id\": \"1FBI\" # Optional: specify an antigen PDB ID for this protein\n",
    "    },\n",
    "    {\n",
    "        \"name\": \"AB_002_Light\",\n",
    "        \"sequence\": \"DIQMTQSPSSLSASVGDRVTITCRASQGISRWLAWYQQKPGKAPKLLIYAASSLQSGVPSRFSGSGSGTDFTLTISSLQPEDFATYYCQQYNSYPPTFGQGTKVEIK\",\n",
    "        # No antigen_id specified, will use default or validator's target_antigen_pdb_id\n",
    "    },\n",
    "    {\n",
    "        \"name\": \"AB_003_Heavy_Problematic\",\n",
    "        \"sequence\": \"EVHLLESGGGLVQPGGSMKLSCVASGFTFSDAYYMNWVRQSPEKGLEWVAEIRNKPYNYETYYSDSVKGRFTISRDDSKNAVYLQMNGLRAEDTGIYYCARYDYDILTGYYYYMDVWGKGTTVTVSS\",\n",
    "        \"antigen_id\": \"2VIR\"\n",
    "    },\n",
    "    {\n",
    "        \"name\": \"AB_004_Short_Invalid\",\n",
    "        \"sequence\": \"ACDEFGHIKLMNPQRSTVWY\", # Too short, should fail validation\n",
    "    }\n",
    "]\n",
    "\n",
    "# Create a dummy FASTA-like input file for BatchProteinProcessor\n",
    "dummy_sequence_file = NOTEBOOK_OUTPUT_DIR / \"example_proteins.fasta\"\n",
    "with open(dummy_sequence_file, 'w') as f:\n",
    "    for ab in protein_sequences_list:\n",
    "        if ab['sequence']: # Only write if sequence exists\n",
    "            f.write(f\">{ab['name']}\\n\") # Can add [antigen_id={ab.get('antigen_id', '')}] if BatchProcessor supports it\n",
    "            f.write(f\"{ab['sequence']}\\n\")\n",
    "print(f\"Created dummy sequence file: {dummy_sequence_file}\")\n",
    "\n",
    "# List some available internal PDB IDs that can be used as antigens\n",
    "print(\"\\nSome available internal antigen PDB IDs:\")\n",
    "internal_antigens = list_internal_pdb_ids()\n",
    "if internal_antigens:\n",
    "    print(internal_antigens[:5]) # Print first 5\n",
    "else:\n",
    "    print(\"No internal antigen PDBs found.\")"
   ]
  },
  {
   "cell_type": "markdown",
   "metadata": {},
   "source": [
    "## Using BatchAntibodyProcessor"
   ]
  },
  {
   "cell_type": "code",
   "execution_count": 5,
   "metadata": {},
   "outputs": [
    {
     "name": "stderr",
     "output_type": "stream",
     "text": [
      "2025-05-09 17:06:52,184 - INFO - No target_antigen_pdb_id provided, randomly selected: 6mpv\n",
      "2025-05-09 17:06:52,193 - INFO - Using internal antigen '6mpv', materialised at './protein_notebook_outputs/batch_processor_results/pdbs/6mpv.pdb'\n",
      "2025-05-09 17:06:52,197 - INFO - 🚀 Starting validation of 4 proteins...\n",
      "2025-05-09 17:06:52,199 - INFO - Found 4 protein sequences in protein_notebook_outputs/batch_processor_results/sequences.txt\n",
      "2025-05-09 17:06:52,200 - INFO - 🌲 Starting batch processing of 4 proteins...\n",
      "2025-05-09 17:06:52,200 - INFO - Processing protein 1/4:\n",
      "2025-05-09 17:06:52,202 - INFO - \n",
      "🧪 Processing protein sequence: EVQLVESGGGLVQPGGSLRL...\n",
      "2025-05-09 17:06:52,204 - INFO - ├── Calculating basic properties...\n",
      "2025-05-09 17:06:52,205 - INFO - ├── 🧬 Running BLAST analysis....\n"
     ]
    },
    {
     "name": "stdout",
     "output_type": "stream",
     "text": [
      "Running BatchProteinProcessor... Output will be in: protein_notebook_outputs/batch_processor_results\n",
      "\n",
      "\n",
      "🔍 Processing 4 proteins from example_proteins.fasta\n",
      "\n",
      "🌲 Processing 4 proteins from protein_notebook_outputs/batch_processor_results/sequences.txt\n",
      "\n",
      "🧪 Processing protein sequence: EVQLVESGGGLVQPGGSLRL...\n",
      "├── Calculating basic properties...\n",
      "├── 🧬 Running BLAST analysis...\n"
     ]
    },
    {
     "name": "stderr",
     "output_type": "stream",
     "text": [
      "2025-05-09 17:14:55,021 - INFO - │   └── ✓ BLAST complet\n",
      "2025-05-09 17:14:55,024 - INFO - ├── 🔍 Calculating ProtParam properties...\n",
      "2025-05-09 17:14:55,028 - INFO - │   └── ✓ ProtParam complete\n",
      "2025-05-09 17:14:55,029 - INFO - ├── 🦠 Assessing immunogenicity...\n"
     ]
    },
    {
     "name": "stdout",
     "output_type": "stream",
     "text": [
      "│   └── ✓ BLAST complete\n",
      "├── 🔍 Analyzing ProtParam properties...\n",
      "│   └── ✓ ProtParam complete\n",
      "├── 🦠 Assessing immunogenicity...\n"
     ]
    },
    {
     "name": "stderr",
     "output_type": "stream",
     "text": [
      "2025-05-09 17:14:58,414 - INFO - │   └── ✓ Immunogenicity assessment complete\n",
      "2025-05-09 17:14:58,415 - INFO - ├── 🔥 Evaluating stability...\n",
      "2025-05-09 17:14:58,416 - INFO - │   └── ✓ Stability evaluation complete\n",
      "2025-05-09 17:14:58,417 - INFO - ├── 🧱 Predicting aggregation propensity...\n",
      "2025-05-09 17:14:58,419 - INFO - │   └── ✓ Aggregation prediction complete\n",
      "2025-05-09 17:14:58,421 - INFO - ├── 🍭  Identifying glycosylation sites...\n",
      "2025-05-09 17:14:58,422 - INFO - │   └── ✓ Glycosylation sites identified\n",
      "2025-05-09 17:14:58,423 - INFO - ├── 🧩 Generating structural model...\n"
     ]
    },
    {
     "name": "stdout",
     "output_type": "stream",
     "text": [
      "│   └── ✓ Immunogenicity assessment complete\n",
      "├── 🔥 Evaluating stability...\n",
      "│   └── ✓ Stability evaluation complete\n",
      "├── 🧱 Predicting aggregation propensity...\n",
      "│   └── ✓ Aggregation prediction complete\n",
      "├── 🍭 Identifying glycosylation sites...\n",
      "│   └── ✓ Glycosylation sites identified\n",
      "├── 🧩 Generating structural model...\n"
     ]
    },
    {
     "name": "stderr",
     "output_type": "stream",
     "text": [
      "2025-05-09 17:21:01,562 - INFO - │   └── ✓ Structural model generated.\n",
      "2025-05-09 17:21:01,821 - INFO - ├── 🔗 Calculating binding affinity...\n"
     ]
    },
    {
     "name": "stdout",
     "output_type": "stream",
     "text": [
      "│   └── ✓ Structural model generated\n",
      "├── 🔗 Calculating binding affinity...\n",
      "Processing files:\n",
      "- ./protein_notebook_outputs/batch_processor_results/pdbs/6mpv.pdb\n",
      "- ./protein_notebook_outputs/batch_processor_results/pdbs/C122H244N122O122_20250509_172101.pdb\n",
      "Using system type: linux\n",
      "Combining PDB files into complex.pdb\n",
      "Running command: prodigy complex.pdb\n"
     ]
    },
    {
     "name": "stderr",
     "output_type": "stream",
     "text": [
      "2025-05-09 17:21:04,307 - INFO - │   └── ✓ Binding affinity calculated against 6mpv\n",
      "2025-05-09 17:21:04,313 - INFO - ├── 🎯 Predicting epitopes...\n",
      "2025-05-09 17:21:04,316 - INFO - │   └── ✓ Epitope prediction complete\n",
      "2025-05-09 17:21:04,324 - INFO - ├── 🌐 Analyzing sequence conservancy...\n",
      "2025-05-09 17:21:04,327 - INFO - │   └── ✓ Conservancy analysis complete\n",
      "2025-05-09 17:21:04,339 - INFO - ├── 🔧 Assessing developability...\n",
      "2025-05-09 17:21:04,401 - INFO - └── 📊 Calculating weighted scores...\n",
      "2025-05-09 17:21:04,405 - INFO - ✅ Successfully processed protein with score\n",
      "2025-05-09 17:21:04,409 - INFO - ✅ Successfully processed protein 1 with score: 0.075\n",
      "2025-05-09 17:21:04,412 - INFO - Processing protein 2/4:\n",
      "2025-05-09 17:21:04,415 - INFO - \n",
      "🧪 Processing protein sequence: DIQMTQSPSSLSASVGDRVT...\n",
      "2025-05-09 17:21:04,422 - INFO - ├── Calculating basic properties...\n",
      "2025-05-09 17:21:04,424 - INFO - ├── 🧬 Running BLAST analysis....\n"
     ]
    },
    {
     "name": "stdout",
     "output_type": "stream",
     "text": [
      "\n",
      "Errors:\n",
      "Traceback (most recent call last):\n",
      "  File \"/home/mino_solo/anaconda3/envs/lisa-moremi/bin/prodigy\", line 8, in <module>\n",
      "    sys.exit(main())\n",
      "  File \"/home/mino_solo/anaconda3/envs/lisa-moremi/lib/python3.10/site-packages/prodigy_prot/predict_IC.py\", line 406, in main\n",
      "    structure, n_chains, n_res = parse_structure(struct_path)\n",
      "  File \"/home/mino_solo/anaconda3/envs/lisa-moremi/lib/python3.10/site-packages/prodigy_prot/modules/parsers.py\", line 164, in parse_structure\n",
      "    validate_structure(s),\n",
      "  File \"/home/mino_solo/anaconda3/envs/lisa-moremi/lib/python3.10/site-packages/prodigy_prot/modules/parsers.py\", line 98, in validate_structure\n",
      "    raise ValueError(\n",
      "ValueError: Unsupported non-standard amino acid found: UNK\n",
      "\n",
      "Error during prediction: Traceback (most recent call last):\n",
      "  File \"/home/mino_solo/anaconda3/envs/lisa-moremi/bin/prodigy\", line 8, in <module>\n",
      "    sys.exit(main())\n",
      "  File \"/home/mino_solo/anaconda3/envs/lisa-moremi/lib/python3.10/site-packages/prodigy_prot/predict_IC.py\", line 406, in main\n",
      "    structure, n_chains, n_res = parse_structure(struct_path)\n",
      "  File \"/home/mino_solo/anaconda3/envs/lisa-moremi/lib/python3.10/site-packages/prodigy_prot/modules/parsers.py\", line 164, in parse_structure\n",
      "    validate_structure(s),\n",
      "  File \"/home/mino_solo/anaconda3/envs/lisa-moremi/lib/python3.10/site-packages/prodigy_prot/modules/parsers.py\", line 98, in validate_structure\n",
      "    raise ValueError(\n",
      "ValueError: Unsupported non-standard amino acid found: UNK\n",
      "\n",
      "│   └── ✓ Binding affinity calculated against 6mpv\n",
      "├── 🎯 Predicting epitope regions...\n",
      "│   └── ✓ Epitope prediction complete\n",
      "├── 🌐 Analyzing sequence conservancy...\n",
      "Warning: No epitopes provided for conservancy analysis.\n",
      "│   └── ✓ Conservancy analysis complete\n",
      "├── 🔧 Assessing developability...\n",
      "│   └── ✓ Developability assessment complete\n",
      "└── 📊 Calculating final scores\n",
      "✅ Successfully processed protein with score\n",
      "│  ├── 1/4: ✅ Success - Score: 0.075\n",
      "\n",
      "🧪 Processing protein sequence: DIQMTQSPSSLSASVGDRVT...\n",
      "├── Calculating basic properties...\n",
      "├── 🧬 Running BLAST analysis...\n"
     ]
    },
    {
     "name": "stderr",
     "output_type": "stream",
     "text": [
      "2025-05-09 17:23:07,190 - INFO - │   └── ✓ BLAST complet\n",
      "2025-05-09 17:23:07,191 - INFO - ├── 🔍 Calculating ProtParam properties...\n",
      "2025-05-09 17:23:07,193 - INFO - │   └── ✓ ProtParam complete\n",
      "2025-05-09 17:23:07,193 - INFO - ├── 🦠 Assessing immunogenicity...\n"
     ]
    },
    {
     "name": "stdout",
     "output_type": "stream",
     "text": [
      "│   └── ✓ BLAST complete\n",
      "├── 🔍 Analyzing ProtParam properties...\n",
      "│   └── ✓ ProtParam complete\n",
      "├── 🦠 Assessing immunogenicity...\n"
     ]
    },
    {
     "name": "stderr",
     "output_type": "stream",
     "text": [
      "2025-05-09 17:23:10,271 - INFO - │   └── ✓ Immunogenicity assessment complete\n",
      "2025-05-09 17:23:10,272 - INFO - ├── 🔥 Evaluating stability...\n",
      "2025-05-09 17:23:10,273 - INFO - │   └── ✓ Stability evaluation complete\n",
      "2025-05-09 17:23:10,274 - INFO - ├── 🧱 Predicting aggregation propensity...\n",
      "2025-05-09 17:23:10,275 - INFO - │   └── ✓ Aggregation prediction complete\n",
      "2025-05-09 17:23:10,276 - INFO - ├── 🍭  Identifying glycosylation sites...\n",
      "2025-05-09 17:23:10,277 - INFO - │   └── ✓ Glycosylation sites identified\n",
      "2025-05-09 17:23:10,277 - INFO - ├── 🧩 Generating structural model...\n"
     ]
    },
    {
     "name": "stdout",
     "output_type": "stream",
     "text": [
      "│   └── ✓ Immunogenicity assessment complete\n",
      "├── 🔥 Evaluating stability...\n",
      "│   └── ✓ Stability evaluation complete\n",
      "├── 🧱 Predicting aggregation propensity...\n",
      "│   └── ✓ Aggregation prediction complete\n",
      "├── 🍭 Identifying glycosylation sites...\n",
      "│   └── ✓ Glycosylation sites identified\n",
      "├── 🧩 Generating structural model...\n"
     ]
    },
    {
     "name": "stderr",
     "output_type": "stream",
     "text": [
      "2025-05-09 17:29:11,345 - INFO - │   └── ✓ Structural model generated.\n",
      "2025-05-09 17:29:11,347 - INFO - ├── 🔗 Calculating binding affinity...\n"
     ]
    },
    {
     "name": "stdout",
     "output_type": "stream",
     "text": [
      "│   └── ✓ Structural model generated\n",
      "├── 🔗 Calculating binding affinity...\n",
      "Processing files:\n",
      "- ./protein_notebook_outputs/batch_processor_results/pdbs/6mpv.pdb\n",
      "- ./protein_notebook_outputs/batch_processor_results/pdbs/C107H214N107O107_20250509_172911.pdb\n",
      "Using system type: linux\n",
      "Combining PDB files into complex.pdb\n",
      "Running command: prodigy complex.pdb\n"
     ]
    },
    {
     "name": "stderr",
     "output_type": "stream",
     "text": [
      "2025-05-09 17:29:11,726 - INFO - │   └── ✓ Binding affinity calculated against 6mpv\n",
      "2025-05-09 17:29:11,727 - INFO - ├── 🎯 Predicting epitopes...\n",
      "2025-05-09 17:29:11,728 - INFO - │   └── ✓ Epitope prediction complete\n",
      "2025-05-09 17:29:11,728 - INFO - ├── 🌐 Analyzing sequence conservancy...\n",
      "2025-05-09 17:29:11,729 - INFO - │   └── ✓ Conservancy analysis complete\n",
      "2025-05-09 17:29:11,730 - INFO - ├── 🔧 Assessing developability...\n",
      "2025-05-09 17:29:11,732 - INFO - └── 📊 Calculating weighted scores...\n",
      "2025-05-09 17:29:11,734 - INFO - ✅ Successfully processed protein with score\n",
      "2025-05-09 17:29:11,735 - INFO - ✅ Successfully processed protein 2 with score: 0.081\n",
      "2025-05-09 17:29:11,736 - INFO - Processing protein 3/4:\n",
      "2025-05-09 17:29:11,737 - INFO - \n",
      "🧪 Processing protein sequence: EVHLLESGGGLVQPGGSMKL...\n",
      "2025-05-09 17:29:11,738 - INFO - ├── Calculating basic properties...\n",
      "2025-05-09 17:29:11,738 - INFO - ├── 🧬 Running BLAST analysis....\n"
     ]
    },
    {
     "name": "stdout",
     "output_type": "stream",
     "text": [
      "\n",
      "Errors:\n",
      "Traceback (most recent call last):\n",
      "  File \"/home/mino_solo/anaconda3/envs/lisa-moremi/bin/prodigy\", line 8, in <module>\n",
      "    sys.exit(main())\n",
      "  File \"/home/mino_solo/anaconda3/envs/lisa-moremi/lib/python3.10/site-packages/prodigy_prot/predict_IC.py\", line 406, in main\n",
      "    structure, n_chains, n_res = parse_structure(struct_path)\n",
      "  File \"/home/mino_solo/anaconda3/envs/lisa-moremi/lib/python3.10/site-packages/prodigy_prot/modules/parsers.py\", line 164, in parse_structure\n",
      "    validate_structure(s),\n",
      "  File \"/home/mino_solo/anaconda3/envs/lisa-moremi/lib/python3.10/site-packages/prodigy_prot/modules/parsers.py\", line 98, in validate_structure\n",
      "    raise ValueError(\n",
      "ValueError: Unsupported non-standard amino acid found: UNK\n",
      "\n",
      "Error during prediction: Traceback (most recent call last):\n",
      "  File \"/home/mino_solo/anaconda3/envs/lisa-moremi/bin/prodigy\", line 8, in <module>\n",
      "    sys.exit(main())\n",
      "  File \"/home/mino_solo/anaconda3/envs/lisa-moremi/lib/python3.10/site-packages/prodigy_prot/predict_IC.py\", line 406, in main\n",
      "    structure, n_chains, n_res = parse_structure(struct_path)\n",
      "  File \"/home/mino_solo/anaconda3/envs/lisa-moremi/lib/python3.10/site-packages/prodigy_prot/modules/parsers.py\", line 164, in parse_structure\n",
      "    validate_structure(s),\n",
      "  File \"/home/mino_solo/anaconda3/envs/lisa-moremi/lib/python3.10/site-packages/prodigy_prot/modules/parsers.py\", line 98, in validate_structure\n",
      "    raise ValueError(\n",
      "ValueError: Unsupported non-standard amino acid found: UNK\n",
      "\n",
      "│   └── ✓ Binding affinity calculated against 6mpv\n",
      "├── 🎯 Predicting epitope regions...\n",
      "│   └── ✓ Epitope prediction complete\n",
      "├── 🌐 Analyzing sequence conservancy...\n",
      "Warning: No epitopes provided for conservancy analysis.\n",
      "│   └── ✓ Conservancy analysis complete\n",
      "├── 🔧 Assessing developability...\n",
      "│   └── ✓ Developability assessment complete\n",
      "└── 📊 Calculating final scores\n",
      "✅ Successfully processed protein with score\n",
      "│  ├── 2/4: ✅ Success - Score: 0.081\n",
      "\n",
      "🧪 Processing protein sequence: EVHLLESGGGLVQPGGSMKL...\n",
      "├── Calculating basic properties...\n",
      "├── 🧬 Running BLAST analysis...\n"
     ]
    },
    {
     "name": "stderr",
     "output_type": "stream",
     "text": [
      "2025-05-09 17:33:14,617 - INFO - │   └── ✓ BLAST complet\n",
      "2025-05-09 17:33:14,619 - INFO - ├── 🔍 Calculating ProtParam properties...\n",
      "2025-05-09 17:33:14,620 - INFO - │   └── ✓ ProtParam complete\n",
      "2025-05-09 17:33:14,620 - INFO - ├── 🦠 Assessing immunogenicity...\n"
     ]
    },
    {
     "name": "stdout",
     "output_type": "stream",
     "text": [
      "│   └── ✓ BLAST complete\n",
      "├── 🔍 Analyzing ProtParam properties...\n",
      "│   └── ✓ ProtParam complete\n",
      "├── 🦠 Assessing immunogenicity...\n"
     ]
    },
    {
     "name": "stderr",
     "output_type": "stream",
     "text": [
      "2025-05-09 17:33:17,931 - INFO - │   └── ✓ Immunogenicity assessment complete\n",
      "2025-05-09 17:33:17,932 - INFO - ├── 🔥 Evaluating stability...\n",
      "2025-05-09 17:33:17,933 - INFO - │   └── ✓ Stability evaluation complete\n",
      "2025-05-09 17:33:17,934 - INFO - ├── 🧱 Predicting aggregation propensity...\n",
      "2025-05-09 17:33:17,936 - INFO - │   └── ✓ Aggregation prediction complete\n",
      "2025-05-09 17:33:17,938 - INFO - ├── 🍭  Identifying glycosylation sites...\n",
      "2025-05-09 17:33:17,939 - INFO - │   └── ✓ Glycosylation sites identified\n",
      "2025-05-09 17:33:17,941 - INFO - ├── 🧩 Generating structural model...\n"
     ]
    },
    {
     "name": "stdout",
     "output_type": "stream",
     "text": [
      "│   └── ✓ Immunogenicity assessment complete\n",
      "├── 🔥 Evaluating stability...\n",
      "│   └── ✓ Stability evaluation complete\n",
      "├── 🧱 Predicting aggregation propensity...\n",
      "│   └── ✓ Aggregation prediction complete\n",
      "├── 🍭 Identifying glycosylation sites...\n",
      "│   └── ✓ Glycosylation sites identified\n",
      "├── 🧩 Generating structural model...\n"
     ]
    },
    {
     "name": "stderr",
     "output_type": "stream",
     "text": [
      "2025-05-09 17:39:52,006 - INFO - │   └── ✓ Structural model generated.\n",
      "2025-05-09 17:39:52,010 - INFO - ├── 🔗 Calculating binding affinity...\n"
     ]
    },
    {
     "name": "stdout",
     "output_type": "stream",
     "text": [
      "│   └── ✓ Structural model generated\n",
      "├── 🔗 Calculating binding affinity...\n",
      "Processing files:\n",
      "- ./protein_notebook_outputs/batch_processor_results/pdbs/6mpv.pdb\n",
      "- ./protein_notebook_outputs/batch_processor_results/pdbs/C127H254N127O127_20250509_173952.pdb\n",
      "Using system type: linux\n",
      "Combining PDB files into complex.pdb\n",
      "Running command: prodigy complex.pdb\n"
     ]
    },
    {
     "name": "stderr",
     "output_type": "stream",
     "text": [
      "2025-05-09 17:39:52,528 - INFO - │   └── ✓ Binding affinity calculated against 6mpv\n",
      "2025-05-09 17:39:52,529 - INFO - ├── 🎯 Predicting epitopes...\n",
      "2025-05-09 17:39:52,531 - INFO - │   └── ✓ Epitope prediction complete\n",
      "2025-05-09 17:39:52,531 - INFO - ├── 🌐 Analyzing sequence conservancy...\n",
      "2025-05-09 17:39:52,533 - INFO - │   └── ✓ Conservancy analysis complete\n",
      "2025-05-09 17:39:52,534 - INFO - ├── 🔧 Assessing developability...\n",
      "2025-05-09 17:39:52,539 - INFO - └── 📊 Calculating weighted scores...\n",
      "2025-05-09 17:39:52,540 - INFO - ✅ Successfully processed protein with score\n",
      "2025-05-09 17:39:52,542 - INFO - ✅ Successfully processed protein 3 with score: 0.094\n",
      "2025-05-09 17:39:52,544 - INFO - Processing protein 4/4:\n",
      "2025-05-09 17:39:52,546 - INFO - \n",
      "🧪 Processing protein sequence: ACDEFGHIKLMNPQRSTVWY...\n",
      "2025-05-09 17:39:52,548 - INFO - ├── Calculating basic properties...\n",
      "2025-05-09 17:39:52,550 - INFO - ├── 🧬 Running BLAST analysis....\n"
     ]
    },
    {
     "name": "stdout",
     "output_type": "stream",
     "text": [
      "\n",
      "Errors:\n",
      "Traceback (most recent call last):\n",
      "  File \"/home/mino_solo/anaconda3/envs/lisa-moremi/bin/prodigy\", line 8, in <module>\n",
      "    sys.exit(main())\n",
      "  File \"/home/mino_solo/anaconda3/envs/lisa-moremi/lib/python3.10/site-packages/prodigy_prot/predict_IC.py\", line 406, in main\n",
      "    structure, n_chains, n_res = parse_structure(struct_path)\n",
      "  File \"/home/mino_solo/anaconda3/envs/lisa-moremi/lib/python3.10/site-packages/prodigy_prot/modules/parsers.py\", line 164, in parse_structure\n",
      "    validate_structure(s),\n",
      "  File \"/home/mino_solo/anaconda3/envs/lisa-moremi/lib/python3.10/site-packages/prodigy_prot/modules/parsers.py\", line 98, in validate_structure\n",
      "    raise ValueError(\n",
      "ValueError: Unsupported non-standard amino acid found: UNK\n",
      "\n",
      "Error during prediction: Traceback (most recent call last):\n",
      "  File \"/home/mino_solo/anaconda3/envs/lisa-moremi/bin/prodigy\", line 8, in <module>\n",
      "    sys.exit(main())\n",
      "  File \"/home/mino_solo/anaconda3/envs/lisa-moremi/lib/python3.10/site-packages/prodigy_prot/predict_IC.py\", line 406, in main\n",
      "    structure, n_chains, n_res = parse_structure(struct_path)\n",
      "  File \"/home/mino_solo/anaconda3/envs/lisa-moremi/lib/python3.10/site-packages/prodigy_prot/modules/parsers.py\", line 164, in parse_structure\n",
      "    validate_structure(s),\n",
      "  File \"/home/mino_solo/anaconda3/envs/lisa-moremi/lib/python3.10/site-packages/prodigy_prot/modules/parsers.py\", line 98, in validate_structure\n",
      "    raise ValueError(\n",
      "ValueError: Unsupported non-standard amino acid found: UNK\n",
      "\n",
      "│   └── ✓ Binding affinity calculated against 6mpv\n",
      "├── 🎯 Predicting epitope regions...\n",
      "│   └── ✓ Epitope prediction complete\n",
      "├── 🌐 Analyzing sequence conservancy...\n",
      "Warning: No epitopes provided for conservancy analysis.\n",
      "│   └── ✓ Conservancy analysis complete\n",
      "├── 🔧 Assessing developability...\n",
      "│   └── ✓ Developability assessment complete\n",
      "└── 📊 Calculating final scores\n",
      "✅ Successfully processed protein with score\n",
      "│  ├── 3/4: ✅ Success - Score: 0.094\n",
      "\n",
      "🧪 Processing protein sequence: ACDEFGHIKLMNPQRSTVWY...\n",
      "├── Calculating basic properties...\n",
      "├── 🧬 Running BLAST analysis...\n"
     ]
    },
    {
     "name": "stderr",
     "output_type": "stream",
     "text": [
      "2025-05-09 17:42:55,232 - INFO - │   └── ✓ BLAST complet\n",
      "2025-05-09 17:42:55,234 - INFO - ├── 🔍 Calculating ProtParam properties...\n",
      "2025-05-09 17:42:55,236 - INFO - │   └── ✓ ProtParam complete\n",
      "2025-05-09 17:42:55,238 - INFO - ├── 🦠 Assessing immunogenicity...\n"
     ]
    },
    {
     "name": "stdout",
     "output_type": "stream",
     "text": [
      "│   └── ✓ BLAST complete\n",
      "├── 🔍 Analyzing ProtParam properties...\n",
      "│   └── ✓ ProtParam complete\n",
      "├── 🦠 Assessing immunogenicity...\n"
     ]
    },
    {
     "name": "stderr",
     "output_type": "stream",
     "text": [
      "2025-05-09 17:42:56,319 - INFO - │   └── ✓ Immunogenicity assessment complete\n",
      "2025-05-09 17:42:56,322 - INFO - ├── 🔥 Evaluating stability...\n",
      "2025-05-09 17:42:56,324 - INFO - │   └── ✓ Stability evaluation complete\n",
      "2025-05-09 17:42:56,326 - INFO - ├── 🧱 Predicting aggregation propensity...\n",
      "2025-05-09 17:42:56,327 - INFO - │   └── ✓ Aggregation prediction complete\n",
      "2025-05-09 17:42:56,329 - INFO - ├── 🍭  Identifying glycosylation sites...\n",
      "2025-05-09 17:42:56,332 - INFO - │   └── ✓ Glycosylation sites identified\n",
      "2025-05-09 17:42:56,333 - INFO - ├── 🧩 Generating structural model...\n"
     ]
    },
    {
     "name": "stdout",
     "output_type": "stream",
     "text": [
      "│   └── ✓ Immunogenicity assessment complete\n",
      "├── 🔥 Evaluating stability...\n",
      "│   └── ✓ Stability evaluation complete\n",
      "├── 🧱 Predicting aggregation propensity...\n",
      "│   └── ✓ Aggregation prediction complete\n",
      "├── 🍭 Identifying glycosylation sites...\n",
      "│   └── ✓ Glycosylation sites identified\n",
      "├── 🧩 Generating structural model...\n"
     ]
    },
    {
     "name": "stderr",
     "output_type": "stream",
     "text": [
      "2025-05-09 17:42:56,911 - INFO - │   └── ✓ Structural model generated.\n",
      "2025-05-09 17:42:56,913 - INFO - ├── 🔗 Calculating binding affinity...\n",
      "2025-05-09 17:42:56,914 - WARNING - │   └── ⚠️ Skipping binding affinity: Ligand(Antibody) PDB path: None, Receptor(Antigen) PDB path: ./protein_notebook_outputs/batch_processor_results/pdbs/6mpv.pdb\n",
      "2025-05-09 17:42:56,915 - INFO - ├── 🎯 Predicting epitopes...\n",
      "2025-05-09 17:42:56,916 - INFO - │   └── ✓ Epitope prediction complete\n",
      "2025-05-09 17:42:56,917 - INFO - ├── 🌐 Analyzing sequence conservancy...\n",
      "2025-05-09 17:42:56,918 - INFO - │   └── ✓ Conservancy analysis complete\n",
      "2025-05-09 17:42:56,919 - INFO - ├── 🔧 Assessing developability...\n",
      "2025-05-09 17:42:56,921 - INFO - └── 📊 Calculating weighted scores...\n",
      "2025-05-09 17:42:56,923 - INFO - ✅ Successfully processed protein with score\n",
      "2025-05-09 17:42:56,924 - INFO - ✅ Successfully processed protein 4 with score: 0.100\n",
      "2025-05-09 17:42:56,925 - INFO - Completed processing 4 proteins\n",
      "2025-05-09 17:42:56,926 - INFO - ✅ Success: 4, ❌ Failed: 0\n",
      "2025-05-09 17:42:56,949 - INFO - 💾 Saved 4 individual results to protein_notebook_outputs/batch_processor_results\n",
      "2025-05-09 17:42:56,950 - INFO - 💾 Results saved to protein_notebook_outputs/batch_processor_results\n",
      "2025-05-09 17:42:56,950 - INFO - ✅ AB_001_Heavy: Validation successful - Formula: C122H244N122O122\n",
      "2025-05-09 17:42:56,952 - INFO - ✅ AB_002_Light: Validation successful - Formula: C107H214N107O107\n",
      "2025-05-09 17:42:56,952 - INFO - ✅ AB_003_Heavy_Problematic: Validation successful - Formula: C127H254N127O127\n",
      "2025-05-09 17:42:56,953 - INFO - ✅ AB_004_Short_Invalid: Validation successful - Formula: C20H40N20O20\n",
      "2025-05-09 17:42:56,955 - INFO - 🎯 Ranking 4 proteins...\n"
     ]
    },
    {
     "name": "stdout",
     "output_type": "stream",
     "text": [
      "│   └── ✓ Structural model generated\n",
      "├── 🔗 Calculating binding affinity...\n",
      "│   └── ⚠️ Skipping binding affinity: Receptor(Antigen) PDB path (6mpv) not prepared or Ligand(Antibody) PDB not available.\n",
      "├── 🎯 Predicting epitope regions...\n",
      "│   └── ✓ Epitope prediction complete\n",
      "├── 🌐 Analyzing sequence conservancy...\n",
      "Warning: No epitopes provided for conservancy analysis.\n",
      "│   └── ✓ Conservancy analysis complete\n",
      "├── 🔧 Assessing developability...\n",
      "│   └── ✓ Developability assessment complete\n",
      "└── 📊 Calculating final scores\n",
      "✅ Successfully processed protein with score\n",
      "│  ├── 4/4: ✅ Success - Score: 0.100\n",
      "│\n",
      "└── 📊 Summary: 4 successful, 0 failed\n",
      "    ├── 1: ✅ Score: 0.075\n",
      "    ├── 2: ✅ Score: 0.081\n",
      "    ├── 3: ✅ Score: 0.094\n",
      "    ├── 4: ✅ Score: 0.100\n",
      "✅ AB_001_Heavy: Validation successful - Formula: C122H244N122O122\n",
      "✅ AB_002_Light: Validation successful - Formula: C107H214N107O107\n",
      "✅ AB_003_Heavy_Problematic: Validation successful - Formula: C127H254N127O127\n",
      "✅ AB_004_Short_Invalid: Validation successful - Formula: C20H40N20O20\n",
      "\n",
      "📊 Ranking 4 proteins and generating reports...\n"
     ]
    },
    {
     "name": "stderr",
     "output_type": "stream",
     "text": [
      "📊 Calculating scores: 100%|██████████| 4/4 [00:00<00:00, 1346.49ab/s]\n",
      "2025-05-09 17:42:56,973 - INFO - 💾 Saving ranking results...\n",
      "2025-05-09 17:42:56,980 - INFO - 📝 Generating enhanced report for protein EVHLLESGGGLVQPGGSMKL... (Rank 1)\n",
      "2025-05-09 17:42:57,421 - ERROR - Failed to generate PDF report for r1_C127H254N127O127_20250509_174256: string indices must be integers\n",
      "2025-05-09 17:42:57,422 - INFO - Generated enhanced report for protein EVHLLESGGGLVQPGGSMKL... in protein_notebook_outputs/batch_processor_results/protein_reports\n",
      "2025-05-09 17:42:57,423 - INFO - 📝 Generating enhanced report for protein EVQLVESGGGLVQPGGSLRL... (Rank 2)\n",
      "2025-05-09 17:42:57,883 - ERROR - Failed to generate PDF report for r2_C122H244N122O122_20250509_174257: string indices must be integers\n",
      "2025-05-09 17:42:57,884 - INFO - Generated enhanced report for protein EVQLVESGGGLVQPGGSLRL... in protein_notebook_outputs/batch_processor_results/protein_reports\n",
      "2025-05-09 17:42:57,886 - INFO - 📝 Generating enhanced report for protein DIQMTQSPSSLSASVGDRVT... (Rank 3)\n",
      "2025-05-09 17:42:58,335 - ERROR - Failed to generate PDF report for r3_C107H214N107O107_20250509_174257: string indices must be integers\n",
      "2025-05-09 17:42:58,337 - INFO - Generated enhanced report for protein DIQMTQSPSSLSASVGDRVT... in protein_notebook_outputs/batch_processor_results/protein_reports\n",
      "2025-05-09 17:42:58,338 - INFO - 📝 Generating enhanced report for protein ACDEFGHIKLMNPQRSTVWY... (Rank 4)\n",
      "2025-05-09 17:42:58,909 - ERROR - Failed to generate PDF report for r4_C20H40N20O20_20250509_174258: 'str' object has no attribute 'get'\n",
      "2025-05-09 17:42:58,910 - INFO - Generated enhanced report for protein ACDEFGHIKLMNPQRSTVWY... in protein_notebook_outputs/batch_processor_results/protein_reports\n",
      "2025-05-09 17:42:58,911 - INFO - ❌ Report generation: 0 successful, 4 failed\n",
      "2025-05-09 17:42:58,930 - INFO - 💾 Rankings saved to CSV: protein_notebook_outputs/batch_processor_results/rankings/rankings_20250509_174256.csv\n",
      "2025-05-09 17:42:58,932 - INFO - 📊 Generating comprehensive ranking report: protein_notebook_outputs/batch_processor_results/rankings/ranking_report_20250509_174256.pdf\n",
      "2025-05-09 17:42:59,456 - WARNING - Failed to use standard report generator: invalid index to scalar variable.\n",
      "2025-05-09 17:42:59,457 - WARNING - Falling back to basic report generator\n",
      "2025-05-09 17:42:59,464 - INFO - Generated basic ranking report: protein_notebook_outputs/batch_processor_results/rankings/ranking_report_20250509_174256.pdf\n",
      "2025-05-09 17:42:59,465 - INFO - Basic ranking report generated successfully: protein_notebook_outputs/batch_processor_results/rankings/ranking_report_20250509_174256.pdf\n",
      "2025-05-09 17:42:59,466 - INFO - 📂 Ranking report generated: protein_notebook_outputs/batch_processor_results/rankings/ranking_report_20250509_174256.pdf\n",
      "2025-05-09 17:42:59,467 - INFO - ✅ Ranking complete! Results saved to protein_notebook_outputs/batch_processor_results\n",
      "2025-05-09 17:42:59,469 - INFO - ✨ Processing complete!\n",
      "2025-05-09 17:42:59,472 - INFO - 📁 Results saved to: protein_notebook_outputs/batch_processor_results\n",
      "2025-05-09 17:42:59,474 - INFO - 📋 Log file: protein_notebook_outputs/batch_processor_results/processing.log\n"
     ]
    },
    {
     "name": "stdout",
     "output_type": "stream",
     "text": [
      "\n",
      "✨ Processing complete!\n",
      "📁 Results saved to: protein_notebook_outputs/batch_processor_results\n",
      "📋 Log file: protein_notebook_outputs/batch_processor_results/processing.log\n",
      "\n",
      "🏆 Top 5 proteins:\n",
      "1. Antigen: Unknown - Score: 0.2896\n",
      "2. Antigen: Unknown - Score: 0.2665\n",
      "3. Antigen: Unknown - Score: 0.2646\n",
      "4. Antigen: Unknown - Score: 0.2217\n",
      "\n",
      "Batch processing complete. Check the directory: protein_notebook_outputs/batch_processor_results\n",
      "This directory should contain:\n",
      "- Overall ranking CSV and PDF (if protein_report_generator is available).\n",
      "- `protein_reports/` subdirectory with individual PDF reports (because generate_pdf=True).\n",
      "- `pdbs/` subdirectory with downloaded/used PDB files.\n",
      "- Log files (`processing.log`, `failed_proteins.txt`).\n"
     ]
    }
   ],
   "source": [
    "batch_output_dir = NOTEBOOK_OUTPUT_DIR / \"batch_processor_results\"\n",
    "batch_output_dir.mkdir(parents=True, exist_ok=True)\n",
    "\n",
    "print(f\"Running BatchProteinProcessor... Output will be in: {batch_output_dir}\\n\")\n",
    "\n",
    "# Instantiate the processor\n",
    "# We can control individual PDF/CSV generation for enhanced reports via generate_pdf and generate_csv flags\n",
    "processor = BatchProteinProcessor(\n",
    "    input_file=str(dummy_sequence_file),\n",
    "    output_dir=str(batch_output_dir),\n",
    "    generate_pdf=True,  # Generate individual PDF reports for each protein\n",
    "    generate_csv=False  # Do NOT generate individual CSV reports for each protein\n",
    ")\n",
    "\n",
    "# Run the batch processing\n",
    "processor.process_batch()\n",
    "\n",
    "print(f\"\\nBatch processing complete. Check the directory: {batch_output_dir}\")\n",
    "print(\"This directory should contain:\")\n",
    "print(\"- Overall ranking CSV and PDF (if protein_report_generator is available).\")\n",
    "print(\"- `protein_reports/` subdirectory with individual PDF reports (because generate_pdf=True).\")\n",
    "print(\"- `pdbs/` subdirectory with downloaded/used PDB files.\")\n",
    "print(\"- Log files (`processing.log`, `failed_proteins.txt`).\")"
   ]
  },
  {
   "cell_type": "markdown",
   "metadata": {},
   "source": [
    "## Antibody Validation"
   ]
  },
  {
   "cell_type": "code",
   "execution_count": null,
   "metadata": {},
   "outputs": [],
   "source": [
    "step_by_step_output_dir = NOTEBOOK_OUTPUT_DIR / \"step_by_step_results\"\n",
    "step_by_step_output_dir.mkdir(parents=True, exist_ok=True)\n",
    "validator_pdb_path = step_by_step_output_dir / \"validator_pdbs\"\n",
    "validator_pdb_path.mkdir(parents=True, exist_ok=True)\n",
    "\n",
    "# Instantiate ProteinValidator\n",
    "# We can specify a target_antigen_pdb_id, or it will pick one randomly from internal PDBs if available.\n",
    "chosen_antigen_for_validator = internal_antigens[0] if internal_antigens else None\n",
    "validator = ProteinValidator(\n",
    "    pdb_files_path=str(validator_pdb_path), \n",
    "    target_antigen_pdb_id=chosen_antigen_for_validator\n",
    ")\n",
    "\n",
    "print(f\"Using target antigen for Validator: {validator.target_antigen_pdb_id}\\n\")\n",
    "\n",
    "validation_results = []\n",
    "sequences_to_validate = [ab['sequence'] for ab in protein_sequences_list if ab['sequence']]\n",
    "\n",
    "# Using process_proteins (which takes a file path)\n",
    "# For this example, let's re-use the dummy_sequence_file for simplicity with process_proteins\n",
    "print(f\"Validating sequences from file: {dummy_sequence_file}\")\n",
    "validation_results = validator.process_proteins(str(dummy_sequence_file), str(step_by_step_output_dir / \"validation_run\"))\n",
    "\n",
    "# Alternatively, to process a list of sequences one by one:\n",
    "# validated_metrics_list = validator.validate_proteins(sequences_to_validate) \n",
    "# print(f\"Validated {len(validated_metrics_list)} proteins successfully via validate_proteins method.\")\n",
    "\n",
    "successful_metrics_list = validator.get_successful_metrics(validation_results)\n",
    "\n",
    "print(f\"\\nTotal sequences processed by validator: {len(validation_results)}\")\n",
    "print(f\"Number of successfully validated proteins: {len(successful_metrics_list)}\")\n",
    "print(f\"Number of failed validations: {len(validation_results) - len(successful_metrics_list)}\")\n",
    "\n",
    "if successful_metrics_list:\n",
    "    print(\"\\nExample metrics for the first successfully validated protein:\")\n",
    "    first_valid_metrics_dict = successful_metrics_list[0].to_dict()\n",
    "    print(f\"  Sequence: {first_valid_metrics_dict['sequence'][:30]}...\")\n",
    "    print(f\"  Antigen Used: {first_valid_metrics_dict['antigen']}\")\n",
    "    print(f\"  Molecular Weight: {first_valid_metrics_dict['molecular_weight']}\")\n",
    "    print(f\"  Total Score (from validator internal scoring): {first_valid_metrics_dict['total_score']}\")\n",
    "    # print(first_valid_metrics_dict['metrics']['protparam'])\n",
    "    # You can explore first_valid_metrics_dict['metrics'] for detailed results from each tool\n",
    "else:\n",
    "    print(\"\\nNo proteins were successfully validated in the step-by-step approach.\")"
   ]
  },
  {
   "cell_type": "markdown",
   "metadata": {},
   "source": [
    "## Antibody Ranking"
   ]
  },
  {
   "cell_type": "code",
   "execution_count": 3,
   "metadata": {},
   "outputs": [
    {
     "ename": "NameError",
     "evalue": "name 'successful_metrics_list' is not defined",
     "output_type": "error",
     "traceback": [
      "\u001b[0;31m---------------------------------------------------------------------------\u001b[0m",
      "\u001b[0;31mNameError\u001b[0m                                 Traceback (most recent call last)",
      "Cell \u001b[0;32mIn[3], line 1\u001b[0m\n\u001b[0;32m----> 1\u001b[0m \u001b[38;5;28;01mif\u001b[39;00m \u001b[43msuccessful_metrics_list\u001b[49m:\n\u001b[1;32m      2\u001b[0m     ranker_output_dir \u001b[38;5;241m=\u001b[39m step_by_step_output_dir \u001b[38;5;241m/\u001b[39m \u001b[38;5;124m\"\u001b[39m\u001b[38;5;124mranking_run\u001b[39m\u001b[38;5;124m\"\u001b[39m\n\u001b[1;32m      3\u001b[0m     ranker_output_dir\u001b[38;5;241m.\u001b[39mmkdir(parents\u001b[38;5;241m=\u001b[39m\u001b[38;5;28;01mTrue\u001b[39;00m, exist_ok\u001b[38;5;241m=\u001b[39m\u001b[38;5;28;01mTrue\u001b[39;00m)\n",
      "\u001b[0;31mNameError\u001b[0m: name 'successful_metrics_list' is not defined"
     ]
    }
   ],
   "source": [
    "if successful_metrics_list:\n",
    "    ranker_output_dir = step_by_step_output_dir / \"ranking_run\"\n",
    "    ranker_output_dir.mkdir(parents=True, exist_ok=True)\n",
    "\n",
    "    # Instantiate ProteinRanker\n",
    "    # Control PDF/CSV generation for individual protein reports\n",
    "    ranker = ProteinRanker(\n",
    "        generate_pdf=True, \n",
    "        generate_csv=True \n",
    "    )\n",
    "    ranker.set_output_directory(str(ranker_output_dir))\n",
    "\n",
    "    print(f\"\\nRanking {len(successful_metrics_list)} validated proteins...\")\n",
    "    print(f\"Ranker outputs (including individual reports if enabled) will be in: {ranker_output_dir}\\n\")\n",
    "    \n",
    "    ranked_df = ranker.rank_proteins(successful_metrics_list)\n",
    "\n",
    "    print(\"Top ranked proteins (DataFrame view):\")\n",
    "    display(ranked_df.head())\n",
    "\n",
    "    # Get results as a list of dictionaries\n",
    "    ranked_dicts = ranker.get_ranking_results_as_dict()\n",
    "    if ranked_dicts:\n",
    "        print(\"\\nExample of first ranked protein (dictionary view):\")\n",
    "        # print(ranked_dicts[0]) # Full dict might be too verbose\n",
    "        print(f\"  Sequence: {ranked_dicts[0]['sequence'][:30]}...\")\n",
    "        print(f\"  Total Score: {ranked_dicts[0]['total_score']}\")\n",
    "        print(f\"  Antigen: {ranked_dicts[0]['antigen']}\")\n",
    "        print(f\"  Molecular Formula: {ranked_dicts[0]['molecular_formula']}\")\n",
    "    \n",
    "    print(f\"\\nRanking complete. Check {ranker_output_dir} for:\")\n",
    "    print(\"- Overall ranking CSV (`rankings/rankings_*.csv`).\")\n",
    "    print(\"- Overall ranking PDF (`rankings/ranking_report_*.pdf`) if protein_report_generator is available.\")\n",
    "    print(\"- `protein_reports/` subdirectory with individual PDF and CSV reports (as generate_pdf=True, generate_csv=True).\")\n",
    "else:\n",
    "    print(\"\\nNo successfully validated proteins to rank.\")"
   ]
  },
  {
   "cell_type": "markdown",
   "metadata": {},
   "source": [
    "## Custom Scoring (Optional)"
   ]
  },
  {
   "cell_type": "code",
   "execution_count": 2,
   "metadata": {},
   "outputs": [
    {
     "ename": "NameError",
     "evalue": "name 'successful_metrics_list' is not defined",
     "output_type": "error",
     "traceback": [
      "\u001b[0;31m---------------------------------------------------------------------------\u001b[0m",
      "\u001b[0;31mNameError\u001b[0m                                 Traceback (most recent call last)",
      "Cell \u001b[0;32mIn[2], line 1\u001b[0m\n\u001b[0;32m----> 1\u001b[0m \u001b[38;5;28;01mif\u001b[39;00m \u001b[43msuccessful_metrics_list\u001b[49m:\n\u001b[1;32m      2\u001b[0m     custom_scoring_output_dir \u001b[38;5;241m=\u001b[39m step_by_step_output_dir \u001b[38;5;241m/\u001b[39m \u001b[38;5;124m\"\u001b[39m\u001b[38;5;124mcustom_scoring_run\u001b[39m\u001b[38;5;124m\"\u001b[39m\n\u001b[1;32m      3\u001b[0m     custom_scoring_output_dir\u001b[38;5;241m.\u001b[39mmkdir(parents\u001b[38;5;241m=\u001b[39m\u001b[38;5;28;01mTrue\u001b[39;00m, exist_ok\u001b[38;5;241m=\u001b[39m\u001b[38;5;28;01mTrue\u001b[39;00m)\n",
      "\u001b[0;31mNameError\u001b[0m: name 'successful_metrics_list' is not defined"
     ]
    }
   ],
   "source": [
    "if successful_metrics_list:\n",
    "    custom_scoring_output_dir = step_by_step_output_dir / \"custom_scoring_run\"\n",
    "    custom_scoring_output_dir.mkdir(parents=True, exist_ok=True)\n",
    "    \n",
    "    # Define custom weights\n",
    "    custom_weights = {\n",
    "        MetricCategory.BINDING_AFFINITY: 0.40, # Increased weight\n",
    "        MetricCategory.STRUCTURE: 0.15,        # Decreased weight\n",
    "        MetricCategory.GLYCOSYLATION: 0.10,\n",
    "        MetricCategory.AGGREGATION: 0.10,\n",
    "        MetricCategory.PROTPARAM: 0.10,\n",
    "        MetricCategory.IMMUNOGENICITY: 0.05,\n",
    "        MetricCategory.CONSERVANCY: 0.05,\n",
    "        MetricCategory.STABILITY: 0.05,\n",
    "        MetricCategory.EPITOPE: 0.00,      # Zero weight\n",
    "        MetricCategory.DEVELOPABILITY: 0.00 # Zero weight\n",
    "    }\n",
    "    \n",
    "    custom_config = ScoringConfig()\n",
    "    custom_config.category_weights = custom_weights\n",
    "    \n",
    "    # Instantiate ProteinRanker with custom config\n",
    "    custom_ranker = ProteinRanker(\n",
    "        config=custom_config, \n",
    "        generate_pdf=False, # Disable individual PDFs for this run\n",
    "        generate_csv=True   # Only generate overall ranking CSV and individual CSVs\n",
    "    )\n",
    "    custom_ranker.set_output_directory(str(custom_scoring_output_dir))\n",
    "    \n",
    "    print(f\"\\nRanking with custom scoring config...\")\n",
    "    print(f\"Custom ranker outputs will be in: {custom_scoring_output_dir}\\n\")\n",
    "    custom_ranked_df = custom_ranker.rank_proteins(successful_metrics_list)\n",
    "    \n",
    "    print(\"Top ranked proteins (custom scoring):\")\n",
    "    display(custom_ranked_df.head())\n",
    "else:\n",
    "    print(\"\\nSkipping custom scoring example as no proteins were successfully validated.\")"
   ]
  }
 ],
 "metadata": {
  "kernelspec": {
   "display_name": "lisa-moremi",
   "language": "python",
   "name": "python3"
  },
  "language_info": {
   "codemirror_mode": {
    "name": "ipython",
    "version": 3
   },
   "file_extension": ".py",
   "mimetype": "text/x-python",
   "name": "python",
   "nbconvert_exporter": "python",
   "pygments_lexer": "ipython3",
   "version": "3.10.9"
  }
 },
 "nbformat": 4,
 "nbformat_minor": 2
}
