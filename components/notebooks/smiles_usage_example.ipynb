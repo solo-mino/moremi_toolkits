{
 "cells": [
  {
   "cell_type": "markdown",
   "metadata": {},
   "source": [
    "# Moremi BioKit: SMILES Subpackage Usage Example\n",
    "\n",
    "This notebook demonstrates how to use the core functionalities of the `moremi_biokit.smiles` subpackage for processing, validating, and ranking small molecules represented by SMILES strings."
   ]
  },
  {
   "cell_type": "markdown",
   "metadata": {},
   "source": [
    "## 1. Setup and Imports\n",
    "\n",
    "First, ensure that the `moremi-biokit` package is installed in your environment. If you are running this notebook from the `moremi_toolkits` monorepo root after setting it up for development, it should be available.\n",
    "\n",
    "We'll import the necessary components from `moremi_biokit` and `moremi_biokit.smiles`."
   ]
  },
  {
   "cell_type": "code",
   "execution_count": 1,
   "metadata": {},
   "outputs": [],
   "source": [
    "import sys\n",
    "from pathlib import Path\n",
    "\n",
    "# Add parent directory to Python path\n",
    "module_path = str(Path().absolute().parent)\n",
    "if module_path not in sys.path:\n",
    "    sys.path.append(module_path)"
   ]
  },
  {
   "cell_type": "code",
   "execution_count": 2,
   "metadata": {},
   "outputs": [
    {
     "name": "stderr",
     "output_type": "stream",
     "text": [
      "<frozen importlib._bootstrap>:241: RuntimeWarning: to-Python converter for boost::shared_ptr<RDKit::FilterHierarchyMatcher> already registered; second conversion method ignored.\n",
      "<frozen importlib._bootstrap>:241: RuntimeWarning: to-Python converter for boost::shared_ptr<RDKit::FilterCatalogEntry> already registered; second conversion method ignored.\n",
      "/home/mino_solo/anaconda3/envs/lisa-moremi/lib/python3.10/site-packages/chemprop/utils.py:473: FutureWarning: You are using `torch.load` with `weights_only=False` (the current default value), which uses the default pickle module implicitly. It is possible to construct malicious pickle data which will execute arbitrary code during unpickling (See https://github.com/pytorch/pytorch/blob/main/SECURITY.md#untrusted-models for more details). In a future release, the default value for `weights_only` will be flipped to `True`. This limits the functions that could be executed during unpickling. Arbitrary objects will no longer be allowed to be loaded via this mode unless they are explicitly allowlisted by the user via `torch.serialization.add_safe_globals`. We recommend you start setting `weights_only=True` for any use case where you don't have full control of the loaded file. Please open an issue on GitHub for any issues related to this experimental feature.\n",
      "  vars(torch.load(path, map_location=lambda storage, loc: storage)[\"args\"]),\n",
      "/home/mino_solo/anaconda3/envs/lisa-moremi/lib/python3.10/site-packages/chemprop/utils.py:112: FutureWarning: You are using `torch.load` with `weights_only=False` (the current default value), which uses the default pickle module implicitly. It is possible to construct malicious pickle data which will execute arbitrary code during unpickling (See https://github.com/pytorch/pytorch/blob/main/SECURITY.md#untrusted-models for more details). In a future release, the default value for `weights_only` will be flipped to `True`. This limits the functions that could be executed during unpickling. Arbitrary objects will no longer be allowed to be loaded via this mode unless they are explicitly allowlisted by the user via `torch.serialization.add_safe_globals`. We recommend you start setting `weights_only=True` for any use case where you don't have full control of the loaded file. Please open an issue on GitHub for any issues related to this experimental feature.\n",
      "  state = torch.load(path, map_location=lambda storage, loc: storage)\n"
     ]
    },
    {
     "name": "stdout",
     "output_type": "stream",
     "text": [
      "Loading pretrained parameter \"encoder.encoder.0.cached_zero_vector\".\n",
      "Loading pretrained parameter \"encoder.encoder.0.W_i.weight\".\n",
      "Loading pretrained parameter \"encoder.encoder.0.W_h.weight\".\n",
      "Loading pretrained parameter \"encoder.encoder.0.W_o.weight\".\n",
      "Loading pretrained parameter \"encoder.encoder.0.W_o.bias\".\n",
      "Loading pretrained parameter \"readout.1.weight\".\n",
      "Loading pretrained parameter \"readout.1.bias\".\n",
      "Loading pretrained parameter \"readout.4.weight\".\n",
      "Loading pretrained parameter \"readout.4.bias\".\n",
      "Loading pretrained parameter \"encoder.encoder.0.cached_zero_vector\".\n",
      "Loading pretrained parameter \"encoder.encoder.0.W_i.weight\".\n",
      "Loading pretrained parameter \"encoder.encoder.0.W_h.weight\".\n",
      "Loading pretrained parameter \"encoder.encoder.0.W_o.weight\".\n",
      "Loading pretrained parameter \"encoder.encoder.0.W_o.bias\".\n",
      "Loading pretrained parameter \"readout.1.weight\".\n",
      "Loading pretrained parameter \"readout.1.bias\".\n",
      "Loading pretrained parameter \"readout.4.weight\".\n",
      "Loading pretrained parameter \"readout.4.bias\".\n",
      "Loading pretrained parameter \"encoder.encoder.0.cached_zero_vector\".\n",
      "Loading pretrained parameter \"encoder.encoder.0.W_i.weight\".\n",
      "Loading pretrained parameter \"encoder.encoder.0.W_h.weight\".\n",
      "Loading pretrained parameter \"encoder.encoder.0.W_o.weight\".\n",
      "Loading pretrained parameter \"encoder.encoder.0.W_o.bias\".\n",
      "Loading pretrained parameter \"readout.1.weight\".\n",
      "Loading pretrained parameter \"readout.1.bias\".\n",
      "Loading pretrained parameter \"readout.4.weight\".\n",
      "Loading pretrained parameter \"readout.4.bias\".\n",
      "Loading pretrained parameter \"encoder.encoder.0.cached_zero_vector\".\n",
      "Loading pretrained parameter \"encoder.encoder.0.W_i.weight\".\n",
      "Loading pretrained parameter \"encoder.encoder.0.W_h.weight\".\n",
      "Loading pretrained parameter \"encoder.encoder.0.W_o.weight\".\n",
      "Loading pretrained parameter \"encoder.encoder.0.W_o.bias\".\n",
      "Loading pretrained parameter \"readout.1.weight\".\n",
      "Loading pretrained parameter \"readout.1.bias\".\n",
      "Loading pretrained parameter \"readout.4.weight\".\n",
      "Loading pretrained parameter \"readout.4.bias\".\n",
      "Loading pretrained parameter \"encoder.encoder.0.cached_zero_vector\".\n",
      "Loading pretrained parameter \"encoder.encoder.0.W_i.weight\".\n",
      "Loading pretrained parameter \"encoder.encoder.0.W_h.weight\".\n",
      "Loading pretrained parameter \"encoder.encoder.0.W_o.weight\".\n",
      "Loading pretrained parameter \"encoder.encoder.0.W_o.bias\".\n",
      "Loading pretrained parameter \"readout.1.weight\".\n",
      "Loading pretrained parameter \"readout.1.bias\".\n",
      "Loading pretrained parameter \"readout.4.weight\".\n",
      "Loading pretrained parameter \"readout.4.bias\".\n"
     ]
    },
    {
     "name": "stderr",
     "output_type": "stream",
     "text": [
      "/home/mino_solo/anaconda3/envs/lisa-moremi/lib/python3.10/site-packages/chemprop/utils.py:418: FutureWarning: You are using `torch.load` with `weights_only=False` (the current default value), which uses the default pickle module implicitly. It is possible to construct malicious pickle data which will execute arbitrary code during unpickling (See https://github.com/pytorch/pytorch/blob/main/SECURITY.md#untrusted-models for more details). In a future release, the default value for `weights_only` will be flipped to `True`. This limits the functions that could be executed during unpickling. Arbitrary objects will no longer be allowed to be loaded via this mode unless they are explicitly allowlisted by the user via `torch.serialization.add_safe_globals`. We recommend you start setting `weights_only=True` for any use case where you don't have full control of the loaded file. Please open an issue on GitHub for any issues related to this experimental feature.\n",
      "  state = torch.load(path, map_location=lambda storage, loc: storage)\n"
     ]
    },
    {
     "name": "stdout",
     "output_type": "stream",
     "text": [
      "Loading pretrained parameter \"encoder.encoder.0.cached_zero_vector\".\n",
      "Loading pretrained parameter \"encoder.encoder.0.W_i.weight\".\n",
      "Loading pretrained parameter \"encoder.encoder.0.W_h.weight\".\n",
      "Loading pretrained parameter \"encoder.encoder.0.W_o.weight\".\n",
      "Loading pretrained parameter \"encoder.encoder.0.W_o.bias\".\n",
      "Loading pretrained parameter \"readout.1.weight\".\n",
      "Loading pretrained parameter \"readout.1.bias\".\n",
      "Loading pretrained parameter \"readout.4.weight\".\n",
      "Loading pretrained parameter \"readout.4.bias\".\n",
      "Loading pretrained parameter \"encoder.encoder.0.cached_zero_vector\".\n",
      "Loading pretrained parameter \"encoder.encoder.0.W_i.weight\".\n",
      "Loading pretrained parameter \"encoder.encoder.0.W_h.weight\".\n",
      "Loading pretrained parameter \"encoder.encoder.0.W_o.weight\".\n",
      "Loading pretrained parameter \"encoder.encoder.0.W_o.bias\".\n",
      "Loading pretrained parameter \"readout.1.weight\".\n",
      "Loading pretrained parameter \"readout.1.bias\".\n",
      "Loading pretrained parameter \"readout.4.weight\".\n",
      "Loading pretrained parameter \"readout.4.bias\".\n",
      "Loading pretrained parameter \"encoder.encoder.0.cached_zero_vector\".\n",
      "Loading pretrained parameter \"encoder.encoder.0.W_i.weight\".\n",
      "Loading pretrained parameter \"encoder.encoder.0.W_h.weight\".\n",
      "Loading pretrained parameter \"encoder.encoder.0.W_o.weight\".\n",
      "Loading pretrained parameter \"encoder.encoder.0.W_o.bias\".\n",
      "Loading pretrained parameter \"readout.1.weight\".\n",
      "Loading pretrained parameter \"readout.1.bias\".\n",
      "Loading pretrained parameter \"readout.4.weight\".\n",
      "Loading pretrained parameter \"readout.4.bias\".\n",
      "Loading pretrained parameter \"encoder.encoder.0.cached_zero_vector\".\n",
      "Loading pretrained parameter \"encoder.encoder.0.W_i.weight\".\n",
      "Loading pretrained parameter \"encoder.encoder.0.W_h.weight\".\n",
      "Loading pretrained parameter \"encoder.encoder.0.W_o.weight\".\n",
      "Loading pretrained parameter \"encoder.encoder.0.W_o.bias\".\n",
      "Loading pretrained parameter \"readout.1.weight\".\n",
      "Loading pretrained parameter \"readout.1.bias\".\n",
      "Loading pretrained parameter \"readout.4.weight\".\n",
      "Loading pretrained parameter \"readout.4.bias\".\n",
      "Loading pretrained parameter \"encoder.encoder.0.cached_zero_vector\".\n",
      "Loading pretrained parameter \"encoder.encoder.0.W_i.weight\".\n",
      "Loading pretrained parameter \"encoder.encoder.0.W_h.weight\".\n",
      "Loading pretrained parameter \"encoder.encoder.0.W_o.weight\".\n",
      "Loading pretrained parameter \"encoder.encoder.0.W_o.bias\".\n",
      "Loading pretrained parameter \"readout.1.weight\".\n",
      "Loading pretrained parameter \"readout.1.bias\".\n",
      "Loading pretrained parameter \"readout.4.weight\".\n",
      "Loading pretrained parameter \"readout.4.bias\".\n",
      "Successfully imported Moremi BioKit components for SMILES processing.\n"
     ]
    }
   ],
   "source": [
    "# from pathlib import Path\n",
    "\n",
    "# Core components from the smiles subpackage (can be imported from moremi_biokit directly thanks to the main __init__.py)\n",
    "from moremi_biokit.smiles import (\n",
    "    SmallMoleculeValidator,\n",
    "    MoleculeMetrics,\n",
    "    ProcessingResult,\n",
    "    SmallMoleculeRankerV4,\n",
    "    BatchMoleculeProcessor,\n",
    "    ScoringConfig # For potential custom ranking\n",
    ")\n",
    "\n",
    "# Specific submodules if needed (e.g., for direct access to calculators, though usually not required for basic use)\n",
    "from moremi_biokit import smiles \n",
    "\n",
    "print(\"Successfully imported Moremi BioKit components for SMILES processing.\")"
   ]
  },
  {
   "cell_type": "markdown",
   "metadata": {},
   "source": [
    "## 2. Validating a Single Molecule\n",
    "\n",
    "Let's validate a single SMILES string and inspect the collected metrics."
   ]
  },
  {
   "cell_type": "code",
   "execution_count": 3,
   "metadata": {},
   "outputs": [
    {
     "name": "stdout",
     "output_type": "stream",
     "text": [
      "Validating Aspirin: CC(=O)OC1=CC=CC=C1C(=O)O\n"
     ]
    },
    {
     "name": "stderr",
     "output_type": "stream",
     "text": [
      "SMILES to Mol: 100%|██████████| 1/1 [00:00<00:00, 2673.23it/s]\n",
      "Computing physchem properties: 100%|██████████| 1/1 [00:00<00:00, 397.83it/s]\n",
      "RDKit fingerprints: 100%|██████████| 1/1 [00:00<00:00, 20.86it/s]\n",
      "model ensembles:   0%|          | 0/2 [00:00<?, ?it/s]\n",
      "\u001b[A\n",
      "\u001b[A\n",
      "\u001b[A\n",
      "\u001b[A\n",
      "\u001b[A\n",
      "\u001b[A\n",
      "\u001b[A\n",
      "\u001b[A\n",
      "\u001b[A\n",
      "individual models: 100%|██████████| 5/5 [00:00<00:00, 78.91it/s]\n",
      "\n",
      "\u001b[A\n",
      "\u001b[A\n",
      "\u001b[A\n",
      "\u001b[A\n",
      "\u001b[A\n",
      "\u001b[A\n",
      "\u001b[A\n",
      "\u001b[A\n",
      "\u001b[A\n",
      "individual models: 100%|██████████| 5/5 [00:01<00:00,  2.75it/s]\n",
      "model ensembles: 100%|██████████| 2/2 [00:01<00:00,  1.05it/s]\n"
     ]
    },
    {
     "name": "stdout",
     "output_type": "stream",
     "text": [
      "  SMILES: CC(=O)Oc1ccccc1C(=O)O\n",
      "  Formula: C9H8O4\n",
      "  MW: 180.04\n",
      "  Physicochemical (TPSA): 63.6\n",
      "  Lipophilicity (Consensus LogP): 1.45060344\n",
      "\n",
      "Validating Ethanol: CCO\n"
     ]
    },
    {
     "name": "stderr",
     "output_type": "stream",
     "text": [
      "SMILES to Mol: 100%|██████████| 1/1 [00:00<00:00, 4190.11it/s]\n",
      "Computing physchem properties: 100%|██████████| 1/1 [00:00<00:00, 573.62it/s]\n",
      "RDKit fingerprints: 100%|██████████| 1/1 [00:00<00:00, 15.68it/s]\n",
      "model ensembles:   0%|          | 0/2 [00:00<?, ?it/s]\n",
      "\u001b[A\n",
      "\u001b[A\n",
      "\u001b[A\n",
      "\u001b[A\n",
      "\u001b[A\n",
      "\u001b[A\n",
      "\u001b[A\n",
      "\u001b[A\n",
      "\u001b[A\n",
      "individual models: 100%|██████████| 5/5 [00:00<00:00, 81.41it/s]\n",
      "\n",
      "\u001b[A\n",
      "\u001b[A\n",
      "\u001b[A\n",
      "\u001b[A\n",
      "\u001b[A\n",
      "\u001b[A\n",
      "\u001b[A\n",
      "\u001b[A\n",
      "\u001b[A\n",
      "individual models: 100%|██████████| 5/5 [00:00<00:00, 100.30it/s]\n",
      "model ensembles: 100%|██████████| 2/2 [00:00<00:00, 16.11it/s]\n"
     ]
    },
    {
     "name": "stdout",
     "output_type": "stream",
     "text": [
      "  SMILES: CCO\n",
      "  MW: 46.04\n",
      "\n",
      "Validating Invalid SMILES: ThisIsNotASMILES\n",
      "  Failed as expected: Invalid SMILES\n"
     ]
    },
    {
     "name": "stderr",
     "output_type": "stream",
     "text": [
      "[16:10:11] SMILES Parse Error: syntax error while parsing: ThisIsNotASMILES\n",
      "[16:10:11] SMILES Parse Error: check for mistakes around position 1:\n",
      "[16:10:11] ThisIsNotASMILES\n",
      "[16:10:11] ^\n",
      "[16:10:11] SMILES Parse Error: Failed parsing SMILES 'ThisIsNotASMILES' for input: 'ThisIsNotASMILES'\n"
     ]
    }
   ],
   "source": [
    "validator = SmallMoleculeValidator()\n",
    "\n",
    "aspirin_smiles = \"CC(=O)OC1=CC=CC=C1C(=O)O\"\n",
    "ethanol_smiles = \"CCO\"\n",
    "invalid_smiles = \"ThisIsNotASMILES\"\n",
    "\n",
    "print(f\"Validating Aspirin: {aspirin_smiles}\")\n",
    "result_aspirin = validator.process_molecule(aspirin_smiles)\n",
    "\n",
    "if result_aspirin.success and isinstance(result_aspirin.metrics, MoleculeMetrics):\n",
    "    print(f\"  SMILES: {result_aspirin.metrics.smiles}\")\n",
    "    print(f\"  Formula: {result_aspirin.metrics.molecular_formula}\")\n",
    "    print(f\"  MW: {result_aspirin.metrics.molecular_weight:.2f}\")\n",
    "    print(f\"  Physicochemical (TPSA): {result_aspirin.metrics.physicochemical.get('tpsa')}\")\n",
    "    print(f\"  Lipophilicity (Consensus LogP): {result_aspirin.metrics.lipophilicity.get('consensus_logp')}\")\n",
    "    # You can explore other metrics in result_aspirin.metrics as needed\n",
    "else:\n",
    "    print(f\"  Failed to process Aspirin: {result_aspirin.error}\")\n",
    "\n",
    "print(f\"\\nValidating Ethanol: {ethanol_smiles}\")\n",
    "result_ethanol = validator.process_molecule(ethanol_smiles)\n",
    "if result_ethanol.success and isinstance(result_ethanol.metrics, MoleculeMetrics):\n",
    "    print(f\"  SMILES: {result_ethanol.metrics.smiles}\")\n",
    "    print(f\"  MW: {result_ethanol.metrics.molecular_weight:.2f}\")\n",
    "else:\n",
    "    print(f\"  Failed to process Ethanol: {result_ethanol.error}\")\n",
    "\n",
    "print(f\"\\nValidating Invalid SMILES: {invalid_smiles}\")\n",
    "result_invalid = validator.process_molecule(invalid_smiles)\n",
    "if not result_invalid.success:\n",
    "    print(f\"  Failed as expected: {result_invalid.error}\")"
   ]
  },
  {
   "cell_type": "markdown",
   "metadata": {},
   "source": [
    "Get all metrics result"
   ]
  },
  {
   "cell_type": "code",
   "execution_count": 4,
   "metadata": {},
   "outputs": [
    {
     "data": {
      "text/plain": [
       "{'smiles': 'CC(=O)Oc1ccccc1C(=O)O',\n",
       " 'molecular_formula': 'C9H8O4',\n",
       " 'molecular_weight': 180.042258736,\n",
       " 'metrics': {'physicochemical': {'tpsa': 63.6,\n",
       "   'logp': 1.45060344,\n",
       "   'qed': 0.5501217966938848},\n",
       "  'medicinal_chemistry': {'synthetic_accessibility': 4.51,\n",
       "   'qed': 0.5501217966938848},\n",
       "  'lipophilicity': {'ilogp': 1.3729848,\n",
       "   'xlogp3': 1.4253888000000001,\n",
       "   'wlogp': 1.3101,\n",
       "   'mlogp': 1.5434232479999999,\n",
       "   'silicos_it': 1.6241932920000002,\n",
       "   'consensus_logp': 1.45060344},\n",
       "  'druglikeness': {'lipinski_violations': [], 'bioavailability_score': 0.85},\n",
       "  'absorption': {'caco2': -4.406400482370849,\n",
       "   'pampa': 0.2673666700720787,\n",
       "   'mdck': -4.24320169034944,\n",
       "   'hia': 0.9971104025840759,\n",
       "   'pgp_substrate': 0.00825292665977031,\n",
       "   'pgp_inhibitor': 0.55},\n",
       "  'distribution': {'vdss': 6.688882144785967,\n",
       "   'ppb': 73.18028435667074,\n",
       "   'bbb': 0.8109905123710632,\n",
       "   'fu': 26.81971564332926},\n",
       "  'metabolism': {'cyp2c9_inhibition': 0.031664181500673294,\n",
       "   'cyp2d6_inhibition': 0.006942124478518963,\n",
       "   'cyp3a4_inhibition': 0.00023585804883623495},\n",
       "  'excretion': {'half_life': 3.5387631247176308, 'clearance': 9.309},\n",
       "  'toxicity': {'herg': 0.0033732878742739557}},\n",
       " 'warnings': []}"
      ]
     },
     "execution_count": 4,
     "metadata": {},
     "output_type": "execute_result"
    }
   ],
   "source": [
    "result_aspirin.metrics.to_dict()"
   ]
  },
  {
   "cell_type": "markdown",
   "metadata": {},
   "source": [
    "## 3. Batch Processing Molecules\n",
    "\n",
    "The `BatchMoleculeProcessor` can be used to process multiple SMILES from a file. For this example, we'll create a dummy SMILES file."
   ]
  },
  {
   "cell_type": "code",
   "execution_count": 5,
   "metadata": {},
   "outputs": [
    {
     "name": "stdout",
     "output_type": "stream",
     "text": [
      "Created dummy SMILES file: /home/mino_solo/moremi_toolkits/components/moremi-biokit/moremi_biokit/example_data/example_molecules.smi\n",
      "Batch output will be saved to: /home/mino_solo/moremi_toolkits/components/moremi-biokit/moremi_biokit/batch_analysis_results\n",
      "\n",
      "Starting batch processing... (This may take a moment)\n",
      "2025-05-07 16:10:13,127 - INFO - 🚀 Starting validation of 5 molecules...\n",
      "\n",
      "🔍 Processing 5 molecules from example_molecules.smi\n"
     ]
    },
    {
     "name": "stderr",
     "output_type": "stream",
     "text": [
      "Processing molecules:   0%|          | 0/5 [00:00<?, ?mol/s]"
     ]
    },
    {
     "name": "stdout",
     "output_type": "stream",
     "text": [
      "2025-05-07 16:10:13,142 - INFO - \n",
      "⚡ Processing molecule 1/5\n",
      "2025-05-07 16:10:13,145 - INFO - ├── 🧬 SMILES: CC(=O)OC1=CC=CC=C1C(=O)O\n",
      "\n",
      "📊 Validating molecule 1/5\n",
      "├── 🧬 SMILES: CC(=O)OC1=CC=CC=C1C(=O)O\n",
      "├── 🔬 Calculating properties...\n"
     ]
    },
    {
     "name": "stderr",
     "output_type": "stream",
     "text": [
      "SMILES to Mol: 100%|██████████| 1/1 [00:00<00:00, 6754.11it/s]\n",
      "Computing physchem properties: 100%|██████████| 1/1 [00:00<00:00, 201.30it/s]\n",
      "RDKit fingerprints: 100%|██████████| 1/1 [00:00<00:00, 12.48it/s]\n",
      "\n",
      "\u001b[A\n",
      "\n",
      "\u001b[A\u001b[A\n",
      "\n",
      "\u001b[A\u001b[A\n",
      "\n",
      "\u001b[A\u001b[A\n",
      "\n",
      "\u001b[A\u001b[A\n",
      "\n",
      "\u001b[A\u001b[A\n",
      "\n",
      "\u001b[A\u001b[A\n",
      "\u001b[A\n",
      "\n",
      "\u001b[A\u001b[A\n",
      "\n",
      "\u001b[A\u001b[A\n",
      "\n",
      "\u001b[A\u001b[A\n",
      "\n",
      "individual models: 100%|██████████| 5/5 [00:00<00:00, 33.78it/s]\n",
      "\n",
      "\u001b[A\n",
      "\n",
      "\u001b[A\u001b[A\n",
      "\n",
      "\u001b[A\u001b[A\n",
      "\n",
      "\u001b[A\u001b[A\n",
      "\n",
      "\u001b[A\u001b[A\n",
      "\n",
      "\u001b[A\u001b[A\n",
      "\n",
      "\u001b[A\u001b[A\n",
      "\n",
      "\u001b[A\u001b[A\n",
      "\n",
      "\u001b[A\u001b[A\n",
      "\n",
      "\u001b[A\u001b[A\n",
      "\n",
      "individual models: 100%|██████████| 5/5 [00:00<00:00, 52.44it/s]\n",
      "model ensembles: 100%|██████████| 2/2 [00:00<00:00,  7.20it/s]\n"
     ]
    },
    {
     "name": "stdout",
     "output_type": "stream",
     "text": [
      "2025-05-07 16:10:13,907 - INFO - └── ✅ Validation successful\n",
      "2025-05-07 16:10:13,911 - INFO -     └── 📝 Formula: C9H8O4\n"
     ]
    },
    {
     "name": "stderr",
     "output_type": "stream",
     "text": [
      "Processing molecules:  20%|██        | 1/5 [00:00<00:03,  1.30mol/s]"
     ]
    },
    {
     "name": "stdout",
     "output_type": "stream",
     "text": [
      "└── ✅ Validation successful\n",
      "    └── 📝 Formula: C9H8O4\n",
      "2025-05-07 16:10:13,918 - INFO - \n",
      "⚡ Processing molecule 2/5\n",
      "2025-05-07 16:10:13,924 - INFO - ├── 🧬 SMILES: CCO\n",
      "\n",
      "📊 Validating molecule 2/5\n",
      "├── 🧬 SMILES: CCO\n",
      "├── 🔬 Calculating properties...\n"
     ]
    },
    {
     "name": "stderr",
     "output_type": "stream",
     "text": [
      "SMILES to Mol: 100%|██████████| 1/1 [00:00<00:00, 7639.90it/s]\n",
      "Computing physchem properties: 100%|██████████| 1/1 [00:00<00:00, 60.90it/s]\n",
      "RDKit fingerprints: 100%|██████████| 1/1 [00:00<00:00,  7.20it/s]\n",
      "\n",
      "\u001b[A\n",
      "\n",
      "\u001b[A\u001b[A\n",
      "\n",
      "\u001b[A\u001b[A\n",
      "\n",
      "\u001b[A\u001b[A\n",
      "\n",
      "\u001b[A\u001b[A\n",
      "\n",
      "\u001b[A\u001b[A\n",
      "\n",
      "\u001b[A\u001b[A\n",
      "\n",
      "\u001b[A\u001b[A\n",
      "\n",
      "\u001b[A\u001b[A\n",
      "\u001b[A\n",
      "\n",
      "\u001b[A\u001b[A\n",
      "\n",
      "individual models: 100%|██████████| 5/5 [00:00<00:00, 26.15it/s]\n",
      "\n",
      "\u001b[A\n",
      "\n",
      "\u001b[A\u001b[A\n",
      "\n",
      "\u001b[A\u001b[A\n",
      "\n",
      "\u001b[A\u001b[A\n",
      "\n",
      "\u001b[A\u001b[A\n",
      "\u001b[A\n",
      "\n",
      "\u001b[A\u001b[A\n",
      "\n",
      "\u001b[A\u001b[A\n",
      "\n",
      "\u001b[A\u001b[A\n",
      "\n",
      "\u001b[A\u001b[A\n",
      "\n",
      "\u001b[A\u001b[A\n",
      "\n",
      "individual models: 100%|██████████| 5/5 [00:00<00:00, 28.03it/s]\n",
      "model ensembles: 100%|██████████| 2/2 [00:00<00:00,  5.00it/s]\n"
     ]
    },
    {
     "name": "stdout",
     "output_type": "stream",
     "text": [
      "2025-05-07 16:10:14,842 - INFO - └── ✅ Validation successful\n",
      "2025-05-07 16:10:14,848 - INFO -     └── 📝 Formula: C2H6O\n"
     ]
    },
    {
     "name": "stderr",
     "output_type": "stream",
     "text": [
      "Processing molecules:  40%|████      | 2/5 [00:01<00:02,  1.15mol/s]"
     ]
    },
    {
     "name": "stdout",
     "output_type": "stream",
     "text": [
      "└── ✅ Validation successful\n",
      "    └── 📝 Formula: C2H6O\n",
      "2025-05-07 16:10:14,858 - INFO - \n",
      "⚡ Processing molecule 3/5\n",
      "2025-05-07 16:10:14,861 - INFO - ├── 🧬 SMILES: C1CCCCC1\n",
      "\n",
      "📊 Validating molecule 3/5\n",
      "├── 🧬 SMILES: C1CCCCC1\n",
      "├── 🔬 Calculating properties...\n"
     ]
    },
    {
     "name": "stderr",
     "output_type": "stream",
     "text": [
      "SMILES to Mol: 100%|██████████| 1/1 [00:00<00:00, 2781.37it/s]\n",
      "Computing physchem properties: 100%|██████████| 1/1 [00:00<00:00, 62.32it/s]\n",
      "RDKit fingerprints: 100%|██████████| 1/1 [00:00<00:00,  6.80it/s]\n",
      "\n",
      "\u001b[A\n",
      "\n",
      "\u001b[A\u001b[A\n",
      "\n",
      "\u001b[A\u001b[A\n",
      "\n",
      "\u001b[A\u001b[A\n",
      "\n",
      "\u001b[A\u001b[A\n",
      "\n",
      "\u001b[A\u001b[A\n",
      "\u001b[A\n",
      "\n",
      "\u001b[A\u001b[A\n",
      "\n",
      "\u001b[A\u001b[A\n",
      "\n",
      "\u001b[A\u001b[A\n",
      "\n",
      "\u001b[A\u001b[A\n",
      "\n",
      "\u001b[A\u001b[A\n",
      "\u001b[A\n",
      "\n",
      "\u001b[A\u001b[A\n",
      "\n",
      "individual models: 100%|██████████| 5/5 [00:00<00:00, 10.91it/s]\n",
      "\n",
      "\u001b[A\n",
      "\n",
      "\u001b[A\u001b[A\n",
      "\n",
      "\u001b[A\u001b[A\n",
      "\n",
      "\u001b[A\u001b[A\n",
      "\n",
      "\u001b[A\u001b[A\n",
      "\n",
      "\u001b[A\u001b[A\n",
      "\n",
      "\u001b[A\u001b[A\n",
      "\u001b[A\n",
      "\n",
      "\u001b[A\u001b[A\n",
      "\n",
      "\u001b[A\u001b[A\n",
      "\n",
      "\u001b[A\u001b[A\n",
      "\n",
      "\u001b[A\u001b[A\n",
      "individual models: 100%|██████████| 5/5 [00:00<00:00, 17.14it/s]\n",
      "model ensembles: 100%|██████████| 2/2 [00:00<00:00,  2.51it/s]\n"
     ]
    },
    {
     "name": "stdout",
     "output_type": "stream",
     "text": [
      "2025-05-07 16:10:16,223 - INFO - └── ✅ Validation successful\n",
      "2025-05-07 16:10:16,227 - INFO -     └── 📝 Formula: C6H12\n"
     ]
    },
    {
     "name": "stderr",
     "output_type": "stream",
     "text": [
      "Processing molecules:  60%|██████    | 3/5 [00:03<00:02,  1.10s/mol]"
     ]
    },
    {
     "name": "stdout",
     "output_type": "stream",
     "text": [
      "└── ✅ Validation successful\n",
      "    └── 📝 Formula: C6H12\n",
      "2025-05-07 16:10:16,231 - INFO - \n",
      "⚡ Processing molecule 4/5\n",
      "2025-05-07 16:10:16,233 - INFO - ├── 🧬 SMILES: CN1C=NC2=C1C(=O)N(C(=O)N2C)C\n",
      "\n",
      "📊 Validating molecule 4/5\n",
      "├── 🧬 SMILES: CN1C=NC2=C1C(=O)N(C(=O)N2C)C\n",
      "├── 🔬 Calculating properties...\n"
     ]
    },
    {
     "name": "stderr",
     "output_type": "stream",
     "text": [
      "SMILES to Mol: 100%|██████████| 1/1 [00:00<00:00, 1569.14it/s]\n",
      "Computing physchem properties: 100%|██████████| 1/1 [00:00<00:00, 257.48it/s]\n",
      "RDKit fingerprints: 100%|██████████| 1/1 [00:00<00:00,  6.64it/s]\n",
      "\n",
      "\u001b[A\n",
      "\n",
      "\u001b[A\u001b[A\n",
      "\n",
      "\u001b[A\u001b[A\n",
      "\n",
      "\u001b[A\u001b[A\n",
      "\n",
      "\u001b[A\u001b[A\n",
      "\n",
      "\u001b[A\u001b[A\n",
      "\n",
      "\u001b[A\u001b[A\n",
      "\u001b[A\n",
      "\n",
      "\u001b[A\u001b[A\n",
      "\n",
      "\u001b[A\u001b[A\n",
      "\n",
      "\u001b[A\u001b[A\n",
      "\n",
      "individual models: 100%|██████████| 5/5 [00:00<00:00, 17.66it/s]\n",
      "\n",
      "\u001b[A\n",
      "\n",
      "\u001b[A\u001b[A\n",
      "\n",
      "\u001b[A\u001b[A\n",
      "\u001b[A\n",
      "\n",
      "\u001b[A\u001b[A\n",
      "\n",
      "\u001b[A\u001b[A\n",
      "\n",
      "\u001b[A\u001b[A\n",
      "\n",
      "\u001b[A\u001b[A\n",
      "\u001b[A\n",
      "\n",
      "\u001b[A\u001b[A\n",
      "\n",
      "\u001b[A\u001b[A\n",
      "\n",
      "\u001b[A\u001b[A\n",
      "\n",
      "\u001b[A\u001b[A\n",
      "individual models: 100%|██████████| 5/5 [00:00<00:00, 11.06it/s]\n",
      "model ensembles: 100%|██████████| 2/2 [00:00<00:00,  2.53it/s]\n"
     ]
    },
    {
     "name": "stdout",
     "output_type": "stream",
     "text": [
      "2025-05-07 16:10:17,639 - INFO - └── ✅ Validation successful\n",
      "2025-05-07 16:10:17,641 - INFO -     └── 📝 Formula: C8H10N4O2\n"
     ]
    },
    {
     "name": "stderr",
     "output_type": "stream",
     "text": [
      "Processing molecules:  80%|████████  | 4/5 [00:04<00:01,  1.23s/mol]"
     ]
    },
    {
     "name": "stdout",
     "output_type": "stream",
     "text": [
      "└── ✅ Validation successful\n",
      "    └── 📝 Formula: C8H10N4O2\n",
      "2025-05-07 16:10:17,649 - INFO - \n",
      "⚡ Processing molecule 5/5\n",
      "2025-05-07 16:10:17,650 - INFO - ├── 🧬 SMILES: InvalidSMILESString\n",
      "\n",
      "📊 Validating molecule 5/5\n",
      "├── 🧬 SMILES: InvalidSMILESString\n",
      "├── 🔬 Calculating properties...\n",
      "2025-05-07 16:10:17,654 - ERROR - └── ❌ Validation failed: Invalid SMILES\n"
     ]
    },
    {
     "name": "stderr",
     "output_type": "stream",
     "text": [
      "[16:10:17] SMILES Parse Error: syntax error while parsing: InvalidSMILESString\n",
      "[16:10:17] SMILES Parse Error: check for mistakes around position 3:\n",
      "[16:10:17] InvalidSMILESString\n",
      "[16:10:17] ~~^\n",
      "[16:10:17] SMILES Parse Error: Failed parsing SMILES 'InvalidSMILESString' for input: 'InvalidSMILESString'\n",
      "Processing molecules: 100%|██████████| 5/5 [00:04<00:00,  1.11mol/s]"
     ]
    },
    {
     "name": "stdout",
     "output_type": "stream",
     "text": [
      "└── ❌ Validation failed: Invalid SMILES\n",
      "\n",
      "📊 Ranking molecules and generating reports...\n",
      "2025-05-07 16:10:17,663 - INFO - 🎯 Ranking 4 molecules...\n"
     ]
    },
    {
     "name": "stderr",
     "output_type": "stream",
     "text": [
      "\n",
      "📊 Calculating scores:   0%|          | 0/4 [00:00<?, ?mol/s]"
     ]
    },
    {
     "name": "stdout",
     "output_type": "stream",
     "text": [
      "\n",
      "🧮 Calculating scores for C9H8O4\n",
      "2025-05-07 16:10:17,678 - INFO - 🧮 Calculating scores for C9H8O4\n",
      "\n",
      "🧮 Calculating scores for C2H6O\n",
      "2025-05-07 16:10:17,681 - INFO - 🧮 Calculating scores for C2H6O\n",
      "\n",
      "🧮 Calculating scores for C6H12\n",
      "2025-05-07 16:10:17,695 - INFO - 🧮 Calculating scores for C6H12\n",
      "\n",
      "🧮 Calculating scores for C8H10N4O2\n",
      "2025-05-07 16:10:17,699 - INFO - 🧮 Calculating scores for C8H10N4O2\n"
     ]
    },
    {
     "name": "stderr",
     "output_type": "stream",
     "text": [
      "📊 Calculating scores: 100%|██████████| 4/4 [00:00<00:00, 116.22mol/s]"
     ]
    },
    {
     "name": "stdout",
     "output_type": "stream",
     "text": [
      "2025-05-07 16:10:17,729 - INFO - 💾 Saving ranking results...\n",
      "2025-05-07 16:10:17,746 - INFO - 📝 Generating report for C9H8O4 (Rank 1)\n"
     ]
    },
    {
     "name": "stderr",
     "output_type": "stream",
     "text": [
      "\n",
      "SMILES to Mol: 100%|██████████| 1/1 [00:00<00:00, 2385.84it/s]\n",
      "Computing physchem properties: 100%|██████████| 1/1 [00:00<00:00, 320.10it/s]\n",
      "RDKit fingerprints: 100%|██████████| 1/1 [00:00<00:00,  4.88it/s]\n",
      "model ensembles:   0%|          | 0/2 [00:00<?, ?it/s]\n",
      "\u001b[A\n",
      "\u001b[A\n",
      "\u001b[A\n",
      "\u001b[A\n",
      "\u001b[A\n",
      "\u001b[A\n",
      "\u001b[A\n",
      "\u001b[A\n",
      "\u001b[A\n",
      "\u001b[A\n",
      "individual models: 100%|██████████| 5/5 [00:00<00:00, 12.56it/s]\n",
      "model ensembles:  50%|█████     | 1/2 [00:00<00:00,  2.43it/s]\n",
      "\u001b[A\n",
      "\u001b[A\n",
      "\u001b[A\n",
      "\u001b[A\n",
      "\u001b[A\n",
      "\u001b[A\n",
      "\u001b[A\n",
      "\u001b[A\n",
      "\u001b[A\n",
      "individual models: 100%|██████████| 5/5 [00:00<00:00, 13.94it/s]\n",
      "model ensembles: 100%|██████████| 2/2 [00:00<00:00,  2.53it/s]\n"
     ]
    },
    {
     "name": "stdout",
     "output_type": "stream",
     "text": [
      "Generated reports for C9H8O4 in /home/mino_solo/moremi_toolkits/components/moremi-biokit/moremi_biokit/batch_analysis_results/molecule_reports\n",
      "2025-05-07 16:10:19,232 - INFO - 📝 Generating report for C6H12 (Rank 2)\n"
     ]
    },
    {
     "name": "stderr",
     "output_type": "stream",
     "text": [
      "SMILES to Mol: 100%|██████████| 1/1 [00:00<00:00, 6626.07it/s]\n",
      "Computing physchem properties: 100%|██████████| 1/1 [00:00<00:00, 139.45it/s]\n",
      "RDKit fingerprints: 100%|██████████| 1/1 [00:00<00:00,  3.67it/s]\n",
      "model ensembles:   0%|          | 0/2 [00:00<?, ?it/s]\n",
      "\u001b[A\n",
      "\u001b[A\n",
      "\u001b[A\n",
      "\u001b[A\n",
      "\u001b[A\n",
      "\u001b[A\n",
      "\u001b[A\n",
      "\u001b[A\n",
      "\u001b[A\n",
      "\u001b[A\n",
      "individual models: 100%|██████████| 5/5 [00:00<00:00,  9.93it/s]\n",
      "model ensembles:  50%|█████     | 1/2 [00:00<00:00,  1.88it/s]\n",
      "\u001b[A\n",
      "\u001b[A\n",
      "\u001b[A\n",
      "\u001b[A\n",
      "\u001b[A\n",
      "\u001b[A\n",
      "\u001b[A\n",
      "\u001b[A\n",
      "\u001b[A\n",
      "\u001b[A\n",
      "individual models: 100%|██████████| 5/5 [00:00<00:00, 12.34it/s]\n",
      "model ensembles: 100%|██████████| 2/2 [00:00<00:00,  2.08it/s]\n"
     ]
    },
    {
     "name": "stdout",
     "output_type": "stream",
     "text": [
      "Generated reports for C6H12 in /home/mino_solo/moremi_toolkits/components/moremi-biokit/moremi_biokit/batch_analysis_results/molecule_reports\n",
      "2025-05-07 16:10:20,924 - INFO - 📝 Generating report for C2H6O (Rank 3)\n"
     ]
    },
    {
     "name": "stderr",
     "output_type": "stream",
     "text": [
      "SMILES to Mol: 100%|██████████| 1/1 [00:00<00:00, 2642.91it/s]\n",
      "Computing physchem properties: 100%|██████████| 1/1 [00:00<00:00, 432.94it/s]\n",
      "RDKit fingerprints: 100%|██████████| 1/1 [00:00<00:00,  6.77it/s]\n",
      "model ensembles:   0%|          | 0/2 [00:00<?, ?it/s]\n",
      "\u001b[A\n",
      "\u001b[A\n",
      "\u001b[A\n",
      "\u001b[A\n",
      "\u001b[A\n",
      "\u001b[A\n",
      "\u001b[A\n",
      "\u001b[A\n",
      "\u001b[A\n",
      "individual models: 100%|██████████| 5/5 [00:00<00:00, 27.56it/s]\n",
      "model ensembles:  50%|█████     | 1/2 [00:00<00:00,  5.23it/s]\n",
      "\u001b[A\n",
      "\u001b[A\n",
      "\u001b[A\n",
      "\u001b[A\n",
      "\u001b[A\n",
      "\u001b[A\n",
      "\u001b[A\n",
      "\u001b[A\n",
      "\u001b[A\n",
      "individual models: 100%|██████████| 5/5 [00:00<00:00, 36.90it/s]\n",
      "model ensembles: 100%|██████████| 2/2 [00:00<00:00,  5.84it/s]\n"
     ]
    },
    {
     "name": "stdout",
     "output_type": "stream",
     "text": [
      "Generated reports for C2H6O in /home/mino_solo/moremi_toolkits/components/moremi-biokit/moremi_biokit/batch_analysis_results/molecule_reports\n",
      "2025-05-07 16:10:21,813 - INFO - 📝 Generating report for C8H10N4O2 (Rank 4)\n"
     ]
    },
    {
     "name": "stderr",
     "output_type": "stream",
     "text": [
      "SMILES to Mol: 100%|██████████| 1/1 [00:00<00:00, 4429.04it/s]\n",
      "Computing physchem properties: 100%|██████████| 1/1 [00:00<00:00, 272.13it/s]\n",
      "RDKit fingerprints: 100%|██████████| 1/1 [00:00<00:00,  9.44it/s]\n",
      "model ensembles:   0%|          | 0/2 [00:00<?, ?it/s]\n",
      "\u001b[A\n",
      "\u001b[A\n",
      "\u001b[A\n",
      "\u001b[A\n",
      "\u001b[A\n",
      "\u001b[A\n",
      "\u001b[A\n",
      "\u001b[A\n",
      "\u001b[A\n",
      "\u001b[A\n",
      "individual models: 100%|██████████| 5/5 [00:00<00:00, 15.47it/s]\n",
      "model ensembles:  50%|█████     | 1/2 [00:00<00:00,  2.98it/s]\n",
      "\u001b[A\n",
      "\u001b[A\n",
      "\u001b[A\n",
      "\u001b[A\n",
      "\u001b[A\n",
      "\u001b[A\n",
      "\u001b[A\n",
      "\u001b[A\n",
      "\u001b[A\n",
      "individual models: 100%|██████████| 5/5 [00:00<00:00, 51.96it/s]\n",
      "model ensembles: 100%|██████████| 2/2 [00:00<00:00,  4.49it/s]\n"
     ]
    },
    {
     "name": "stdout",
     "output_type": "stream",
     "text": [
      "Generated reports for C8H10N4O2 in /home/mino_solo/moremi_toolkits/components/moremi-biokit/moremi_biokit/batch_analysis_results/molecule_reports\n",
      "2025-05-07 16:10:24,129 - INFO - Using categorical units to plot a list of strings that are all parsable as floats or dates. If these strings should be plotted as numbers, cast to the appropriate data type before plotting.\n",
      "2025-05-07 16:10:24,144 - INFO - Using categorical units to plot a list of strings that are all parsable as floats or dates. If these strings should be plotted as numbers, cast to the appropriate data type before plotting.\n"
     ]
    },
    {
     "name": "stderr",
     "output_type": "stream",
     "text": [
      "/home/mino_solo/moremi_toolkits/components/moremi-biokit/moremi_biokit/smiles/reports/report_generator.py:381: UserWarning: The palette list has more values (11) than needed (9), which may not be intended.\n",
      "  sns.violinplot(data=data, palette=colors, alpha=0.7)\n"
     ]
    },
    {
     "name": "stdout",
     "output_type": "stream",
     "text": [
      "\n",
      "Ranking results saved to:\n",
      "CSV: /home/mino_solo/moremi_toolkits/components/moremi-biokit/moremi_biokit/batch_analysis_results/rankings/rankings_20250507_161017.csv\n",
      "PDF: /home/mino_solo/moremi_toolkits/components/moremi-biokit/moremi_biokit/batch_analysis_results/rankings/ranking_report_20250507_161017.pdf\n",
      "2025-05-07 16:11:22,974 - INFO - ✅ Ranking complete! Results saved to /home/mino_solo/moremi_toolkits/components/moremi-biokit/moremi_biokit/batch_analysis_results\n",
      "\n",
      "⚠️ 1 molecules failed processing\n",
      "   See /home/mino_solo/moremi_toolkits/components/moremi-biokit/moremi_biokit/batch_analysis_results/failed_molecules.txt for details\n",
      "\n",
      "✨ Processing complete!\n",
      "📁 Results saved to: /home/mino_solo/moremi_toolkits/components/moremi-biokit/moremi_biokit/batch_analysis_results\n",
      "📋 Log file: /home/mino_solo/moremi_toolkits/components/moremi-biokit/moremi_biokit/batch_analysis_results/processing.log\n",
      "\n",
      "Batch processing finished.\n",
      "Check the directory '/home/mino_solo/moremi_toolkits/components/moremi-biokit/moremi_biokit/batch_analysis_results' for results, including logs, reports, and rankings.\n"
     ]
    }
   ],
   "source": [
    "# Create a dummy SMILES file for demonstration\n",
    "notebook_dir = Path.cwd() # Assumes notebook is in components/notebooks/\n",
    "example_data_dir = notebook_dir / \"example_data\"\n",
    "example_data_dir.mkdir(exist_ok=True)\n",
    "dummy_smiles_file = example_data_dir / \"example_molecules.smi\"\n",
    "\n",
    "smiles_data = [\n",
    "    \"CC(=O)OC1=CC=CC=C1C(=O)O\",  # Aspirin\n",
    "    \"CCO\",  # Ethanol\n",
    "    \"C1CCCCC1\",  # Cyclohexane\n",
    "    \"CN1C=NC2=C1C(=O)N(C(=O)N2C)C\",  # Caffeine\n",
    "    \"InvalidSMILESString\"\n",
    "]\n",
    "\n",
    "with open(dummy_smiles_file, 'w') as f:\n",
    "    for s in smiles_data:\n",
    "        f.write(s + '\\n')\n",
    "\n",
    "print(f\"Created dummy SMILES file: {dummy_smiles_file}\")\n",
    "\n",
    "# Define an output directory for batch processing results\n",
    "batch_output_dir = notebook_dir / \"batch_analysis_results\"\n",
    "# batch_output_dir.mkdir(exist_ok=True) # BatchMoleculeProcessor creates it\n",
    "\n",
    "print(f\"Batch output will be saved to: {batch_output_dir}\")\n",
    "\n",
    "# Initialize and run the batch processor\n",
    "# Note: The BatchMoleculeProcessor by default will try to generate reports,\n",
    "# including PDF reports for each molecule if not configured otherwise.\n",
    "# For this notebook, we'll let it run with defaults.\n",
    "# to generate either pdf or csv, you pass `generate_pdf` or `generate_csv` both are of type bool\n",
    "batch_processor = BatchMoleculeProcessor(\n",
    "    input_file=str(dummy_smiles_file), \n",
    "    output_dir=str(batch_output_dir)\n",
    ")\n",
    "\n",
    "try:\n",
    "    print(\"\\nStarting batch processing... (This may take a moment)\")\n",
    "    batch_processor.process_batch()\n",
    "    print(\"\\nBatch processing finished.\")\n",
    "    print(f\"Check the directory '{batch_output_dir}' for results, including logs, reports, and rankings.\")\n",
    "except Exception as e:\n",
    "    print(f\"An error occurred during batch processing: {e}\")\n",
    "    import traceback\n",
    "    traceback.print_exc()"
   ]
  },
  {
   "cell_type": "markdown",
   "metadata": {},
   "source": [
    "### Inspecting Batch Results\n",
    "\n",
    "After running `process_batch()`, the `batch_output_dir` will contain several items:\n",
    "- `processing.log`: A log file of the batch run.\n",
    "- `failed_molecules.txt` (if any): Lists SMILES that failed validation or processing.\n",
    "- `rankings/`: This directory will contain a CSV file (e.g., `rankings_YYYYMMDD_HHMMSS.csv`) with all processed molecules, their scores, and ranks.\n",
    "- `molecule_reports/`: This directory will contain individual reports (CSV and potentially PDF if report generation is enabled and successful) for each successfully processed molecule."
   ]
  },
  {
   "cell_type": "code",
   "execution_count": 6,
   "metadata": {},
   "outputs": [
    {
     "name": "stdout",
     "output_type": "stream",
     "text": [
      "\n",
      "Contents of /home/mino_solo/moremi_toolkits/components/moremi-biokit/moremi_biokit/batch_analysis_results:\n",
      "  failed_molecules.txt\n",
      "  molecule_reports\n",
      "    Contents of molecule_reports (first few):\n",
      "      r1_C9H8O4_20250507_161019.csv\n",
      "      r2_C6H12_20250507_161020.csv\n",
      "      r3_C2H6O_20250507_161021.csv\n",
      "      r4_C8H10N4O2_20250507_161022.csv\n",
      "  processing.log\n",
      "  rankings\n",
      "    Contents of rankings:\n",
      "      ranking_report_20250507_161017.pdf\n",
      "      rankings_20250507_161017.csv\n"
     ]
    }
   ],
   "source": [
    "# Example: Listing some of the output files/directories (actual content depends on the run)\n",
    "if batch_output_dir.exists():\n",
    "    print(f\"\\nContents of {batch_output_dir}:\")\n",
    "    for item in sorted(list(batch_output_dir.glob('*'))):\n",
    "        print(f\"  {item.name}\")\n",
    "        if item.is_dir() and item.name == 'rankings':\n",
    "            print(f\"    Contents of {item.name}:\")\n",
    "            for sub_item in sorted(list(item.glob('*'))):\n",
    "                print(f\"      {sub_item.name}\")\n",
    "        if item.is_dir() and item.name == 'molecule_reports':\n",
    "            print(f\"    Contents of {item.name} (first few):\")\n",
    "            for i, sub_item in enumerate(sorted(list(item.glob('*')))):\n",
    "                if i < 5: print(f\"      {sub_item.name}\")\n",
    "            if len(list(item.glob('*'))) > 5: print(\"      ...and more\")\n",
    "else:\n",
    "    print(f\"\\nOutput directory {batch_output_dir} not found. Ensure batch processing ran successfully.\")"
   ]
  },
  {
   "cell_type": "markdown",
   "metadata": {},
   "source": [
    "## 4. Direct Ranking (Advanced/Alternative)\n",
    "\n",
    "While `BatchMoleculeProcessor` handles validation and ranking together, you can also use `SmallMoleculeRankerV4` directly if you already have a list of `MoleculeMetrics` objects."
   ]
  },
  {
   "cell_type": "code",
   "execution_count": 7,
   "metadata": {},
   "outputs": [
    {
     "name": "stderr",
     "output_type": "stream",
     "text": [
      "SMILES to Mol: 100%|██████████| 1/1 [00:00<00:00, 2608.40it/s]\n",
      "Computing physchem properties: 100%|██████████| 1/1 [00:00<00:00, 268.68it/s]\n",
      "RDKit fingerprints: 100%|██████████| 1/1 [00:00<00:00,  9.76it/s]\n",
      "model ensembles:   0%|          | 0/2 [00:00<?, ?it/s]\n",
      "\u001b[A\n",
      "\u001b[A\n",
      "\u001b[A\n",
      "\u001b[A\n",
      "\u001b[A\n",
      "\u001b[A\n",
      "\u001b[A\n",
      "\u001b[A\n",
      "\u001b[A\n",
      "individual models: 100%|██████████| 5/5 [00:00<00:00, 21.64it/s]\n",
      "model ensembles:  50%|█████     | 1/2 [00:00<00:00,  4.01it/s]\n",
      "\u001b[A\n",
      "\u001b[A\n",
      "\u001b[A\n",
      "\u001b[A\n",
      "\u001b[A\n",
      "\u001b[A\n",
      "\u001b[A\n",
      "\u001b[A\n",
      "\u001b[A\n",
      "individual models: 100%|██████████| 5/5 [00:00<00:00, 41.97it/s]\n",
      "model ensembles: 100%|██████████| 2/2 [00:00<00:00,  5.26it/s]\n",
      "SMILES to Mol: 100%|██████████| 1/1 [00:00<00:00, 6204.59it/s]\n",
      "Computing physchem properties: 100%|██████████| 1/1 [00:00<00:00, 538.35it/s]\n",
      "RDKit fingerprints: 100%|██████████| 1/1 [00:00<00:00, 15.02it/s]\n",
      "model ensembles:   0%|          | 0/2 [00:00<?, ?it/s]\n",
      "\u001b[A\n",
      "\u001b[A\n",
      "\u001b[A\n",
      "\u001b[A\n",
      "\u001b[A\n",
      "\u001b[A\n",
      "\u001b[A\n",
      "\u001b[A\n",
      "\u001b[A\n",
      "individual models: 100%|██████████| 5/5 [00:00<00:00, 53.36it/s]\n",
      "model ensembles:  50%|█████     | 1/2 [00:00<00:00,  9.97it/s]\n",
      "\u001b[A\n",
      "\u001b[A\n",
      "\u001b[A\n",
      "\u001b[A\n",
      "\u001b[A\n",
      "\u001b[A\n",
      "\u001b[A\n",
      "\u001b[A\n",
      "\u001b[A\n",
      "individual models: 100%|██████████| 5/5 [00:00<00:00, 65.50it/s]\n",
      "model ensembles: 100%|██████████| 2/2 [00:00<00:00, 10.78it/s]\n",
      "SMILES to Mol: 100%|██████████| 1/1 [00:00<00:00, 6423.13it/s]\n",
      "Computing physchem properties: 100%|██████████| 1/1 [00:00<00:00, 301.77it/s]\n",
      "RDKit fingerprints: 100%|██████████| 1/1 [00:00<00:00, 10.28it/s]\n",
      "model ensembles:   0%|          | 0/2 [00:00<?, ?it/s]\n",
      "\u001b[A\n",
      "\u001b[A\n",
      "\u001b[A\n",
      "\u001b[A\n",
      "\u001b[A\n",
      "\u001b[A\n",
      "\u001b[A\n",
      "\u001b[A\n",
      "\u001b[A\n",
      "individual models: 100%|██████████| 5/5 [00:00<00:00, 66.90it/s]\n",
      "\n",
      "\u001b[A\n",
      "\u001b[A\n",
      "\u001b[A\n",
      "\u001b[A\n",
      "\u001b[A\n",
      "\u001b[A\n",
      "\u001b[A\n",
      "\u001b[A\n",
      "\u001b[A\n",
      "individual models: 100%|██████████| 5/5 [00:00<00:00, 71.95it/s]\n",
      "model ensembles: 100%|██████████| 2/2 [00:00<00:00, 12.58it/s]\n"
     ]
    },
    {
     "name": "stdout",
     "output_type": "stream",
     "text": [
      "Collected 3 MoleculeMetrics objects for direct ranking.\n",
      "2025-05-07 16:19:07,134 - INFO - 🎯 Ranking 3 molecules...\n"
     ]
    },
    {
     "name": "stderr",
     "output_type": "stream",
     "text": [
      "📊 Calculating scores:   0%|          | 0/3 [00:00<?, ?mol/s]"
     ]
    },
    {
     "name": "stdout",
     "output_type": "stream",
     "text": [
      "\n",
      "🧮 Calculating scores for C9H8O4\n",
      "2025-05-07 16:19:07,138 - INFO - 🧮 Calculating scores for C9H8O4\n",
      "\n",
      "🧮 Calculating scores for C2H6O\n",
      "2025-05-07 16:19:07,139 - INFO - 🧮 Calculating scores for C2H6O\n",
      "\n",
      "🧮 Calculating scores for C8H10N4O2\n",
      "2025-05-07 16:19:07,143 - INFO - 🧮 Calculating scores for C8H10N4O2\n"
     ]
    },
    {
     "name": "stderr",
     "output_type": "stream",
     "text": [
      "📊 Calculating scores: 100%|██████████| 3/3 [00:00<00:00, 359.31mol/s]"
     ]
    },
    {
     "name": "stdout",
     "output_type": "stream",
     "text": [
      "2025-05-07 16:19:07,151 - INFO - 💾 Saving ranking results...\n"
     ]
    },
    {
     "name": "stderr",
     "output_type": "stream",
     "text": [
      "\n"
     ]
    },
    {
     "name": "stdout",
     "output_type": "stream",
     "text": [
      "2025-05-07 16:19:07,162 - INFO - 📝 Generating report for C9H8O4 (Rank 1)\n"
     ]
    },
    {
     "name": "stderr",
     "output_type": "stream",
     "text": [
      "SMILES to Mol: 100%|██████████| 1/1 [00:00<00:00, 5924.16it/s]\n",
      "Computing physchem properties: 100%|██████████| 1/1 [00:00<00:00, 590.83it/s]\n",
      "RDKit fingerprints: 100%|██████████| 1/1 [00:00<00:00,  8.98it/s]\n",
      "model ensembles:   0%|          | 0/2 [00:00<?, ?it/s]\n",
      "\u001b[A\n",
      "\u001b[A\n",
      "\u001b[A\n",
      "\u001b[A\n",
      "\u001b[A\n",
      "\u001b[A\n",
      "\u001b[A\n",
      "\u001b[A\n",
      "\u001b[A\n",
      "individual models: 100%|██████████| 5/5 [00:00<00:00, 62.60it/s]\n",
      "\n",
      "\u001b[A\n",
      "\u001b[A\n",
      "\u001b[A\n",
      "\u001b[A\n",
      "\u001b[A\n",
      "\u001b[A\n",
      "\u001b[A\n",
      "\u001b[A\n",
      "\u001b[A\n",
      "individual models: 100%|██████████| 5/5 [00:00<00:00, 65.69it/s]\n",
      "model ensembles: 100%|██████████| 2/2 [00:00<00:00, 11.41it/s]\n"
     ]
    },
    {
     "name": "stdout",
     "output_type": "stream",
     "text": [
      "Generated reports for C9H8O4 in /home/mino_solo/moremi_toolkits/components/moremi-biokit/moremi_biokit/direct_ranking_results/molecule_reports\n",
      "2025-05-07 16:19:07,742 - INFO - 📝 Generating report for C2H6O (Rank 2)\n"
     ]
    },
    {
     "name": "stderr",
     "output_type": "stream",
     "text": [
      "SMILES to Mol: 100%|██████████| 1/1 [00:00<00:00, 5090.17it/s]\n",
      "Computing physchem properties: 100%|██████████| 1/1 [00:00<00:00, 220.58it/s]\n",
      "RDKit fingerprints: 100%|██████████| 1/1 [00:00<00:00,  6.31it/s]\n",
      "model ensembles:   0%|          | 0/2 [00:00<?, ?it/s]\n",
      "\u001b[A\n",
      "\u001b[A\n",
      "\u001b[A\n",
      "\u001b[A\n",
      "\u001b[A\n",
      "\u001b[A\n",
      "\u001b[A\n",
      "\u001b[A\n",
      "\u001b[A\n",
      "individual models: 100%|██████████| 5/5 [00:00<00:00, 33.62it/s]\n",
      "model ensembles:  50%|█████     | 1/2 [00:00<00:00,  6.35it/s]\n",
      "\u001b[A\n",
      "\u001b[A\n",
      "\u001b[A\n",
      "\u001b[A\n",
      "\u001b[A\n",
      "\u001b[A\n",
      "\u001b[A\n",
      "\u001b[A\n",
      "\u001b[A\n",
      "individual models: 100%|██████████| 5/5 [00:00<00:00, 21.94it/s]\n",
      "model ensembles: 100%|██████████| 2/2 [00:00<00:00,  4.93it/s]\n"
     ]
    },
    {
     "name": "stdout",
     "output_type": "stream",
     "text": [
      "Generated reports for C2H6O in /home/mino_solo/moremi_toolkits/components/moremi-biokit/moremi_biokit/direct_ranking_results/molecule_reports\n",
      "2025-05-07 16:19:08,684 - INFO - 📝 Generating report for C8H10N4O2 (Rank 3)\n"
     ]
    },
    {
     "name": "stderr",
     "output_type": "stream",
     "text": [
      "SMILES to Mol: 100%|██████████| 1/1 [00:00<00:00, 3566.59it/s]\n",
      "Computing physchem properties: 100%|██████████| 1/1 [00:00<00:00, 216.03it/s]\n",
      "RDKit fingerprints: 100%|██████████| 1/1 [00:00<00:00,  7.80it/s]\n",
      "model ensembles:   0%|          | 0/2 [00:00<?, ?it/s]\n",
      "\u001b[A\n",
      "\u001b[A\n",
      "\u001b[A\n",
      "\u001b[A\n",
      "\u001b[A\n",
      "\u001b[A\n",
      "\u001b[A\n",
      "\u001b[A\n",
      "\u001b[A\n",
      "individual models: 100%|██████████| 5/5 [00:00<00:00, 27.94it/s]\n",
      "model ensembles:  50%|█████     | 1/2 [00:00<00:00,  5.30it/s]\n",
      "\u001b[A\n",
      "\u001b[A\n",
      "\u001b[A\n",
      "\u001b[A\n",
      "\u001b[A\n",
      "\u001b[A\n",
      "\u001b[A\n",
      "\u001b[A\n",
      "\u001b[A\n",
      "individual models: 100%|██████████| 5/5 [00:00<00:00, 17.70it/s]\n",
      "model ensembles: 100%|██████████| 2/2 [00:00<00:00,  4.16it/s]\n"
     ]
    },
    {
     "name": "stdout",
     "output_type": "stream",
     "text": [
      "Generated reports for C8H10N4O2 in /home/mino_solo/moremi_toolkits/components/moremi-biokit/moremi_biokit/direct_ranking_results/molecule_reports\n",
      "2025-05-07 16:19:11,620 - INFO - Using categorical units to plot a list of strings that are all parsable as floats or dates. If these strings should be plotted as numbers, cast to the appropriate data type before plotting.\n",
      "2025-05-07 16:19:11,643 - INFO - Using categorical units to plot a list of strings that are all parsable as floats or dates. If these strings should be plotted as numbers, cast to the appropriate data type before plotting.\n"
     ]
    },
    {
     "name": "stderr",
     "output_type": "stream",
     "text": [
      "/home/mino_solo/moremi_toolkits/components/moremi-biokit/moremi_biokit/smiles/reports/report_generator.py:381: UserWarning: The palette list has more values (11) than needed (9), which may not be intended.\n",
      "  sns.violinplot(data=data, palette=colors, alpha=0.7)\n"
     ]
    },
    {
     "name": "stdout",
     "output_type": "stream",
     "text": [
      "\n",
      "Ranking results saved to:\n",
      "CSV: /home/mino_solo/moremi_toolkits/components/moremi-biokit/moremi_biokit/direct_ranking_results/rankings/rankings_20250507_161907.csv\n",
      "PDF: /home/mino_solo/moremi_toolkits/components/moremi-biokit/moremi_biokit/direct_ranking_results/rankings/ranking_report_20250507_161907.pdf\n",
      "2025-05-07 16:20:08,566 - INFO - ✅ Ranking complete! Results saved to /home/mino_solo/moremi_toolkits/components/moremi-biokit/moremi_biokit/direct_ranking_results\n",
      "\n",
      "Ranked DataFrame (top 5):\n",
      "                       SMILES Molecular Formula  Overall Score\n",
      "0       CC(=O)Oc1ccccc1C(=O)O            C9H8O4         0.8466\n",
      "1                         CCO             C2H6O         0.7901\n",
      "2  Cn1c(=O)c2c(ncn2C)n(C)c1=O         C8H10N4O2         0.6802\n",
      "\n",
      "Direct ranking outputs (if any) would be in /home/mino_solo/moremi_toolkits/components/moremi-biokit/moremi_biokit/direct_ranking_results\n"
     ]
    }
   ],
   "source": [
    "# Assuming you have a list of MoleculeMetrics objects from a previous step\n",
    "# For this example, let's re-process a few to get metrics objects\n",
    "metrics_for_ranking = []\n",
    "smiles_to_rank = [\"CC(=O)OC1=CC=CC=C1C(=O)O\", \"CCO\", \"CN1C=NC2=C1C(=O)N(C(=O)N2C)C\"]\n",
    "validator_for_ranker = SmallMoleculeValidator()\n",
    "\n",
    "for s in smiles_to_rank:\n",
    "    res = validator_for_ranker.process_molecule(s)\n",
    "    if res.success and isinstance(res.metrics, MoleculeMetrics):\n",
    "        metrics_for_ranking.append(res.metrics)\n",
    "\n",
    "if metrics_for_ranking:\n",
    "    print(f\"Collected {len(metrics_for_ranking)} MoleculeMetrics objects for direct ranking.\")\n",
    "    ranker = SmallMoleculeRankerV4()\n",
    "    \n",
    "    # Set an output directory for the ranker if you want reports from it\n",
    "    direct_ranking_output_dir = notebook_dir / \"direct_ranking_results\"\n",
    "    ranker.set_output_directory(str(direct_ranking_output_dir))\n",
    "    \n",
    "    # The ranker can be configured not to generate individual PDF reports to speed things up\n",
    "    # ranker.generate_pdf = False \n",
    "    \n",
    "    ranked_df = ranker.rank_molecules(metrics_for_ranking)\n",
    "    \n",
    "    print(\"\\nRanked DataFrame (top 5):\")\n",
    "    print(ranked_df.head()[[\"SMILES\", \"Molecular Formula\", \"Overall Score\"]])\n",
    "    \n",
    "    print(f\"\\nDirect ranking outputs (if any) would be in {direct_ranking_output_dir}\")\n",
    "else:\n",
    "    print(\"Could not collect metrics for direct ranking example.\")"
   ]
  },
  {
   "cell_type": "code",
   "execution_count": 10,
   "metadata": {},
   "outputs": [
    {
     "data": {
      "text/plain": [
       "[MoleculeMetrics(smiles='CC(=O)Oc1ccccc1C(=O)O', molecular_formula='C9H8O4', molecular_weight=180.042258736, physicochemical={'tpsa': 63.6, 'logp': 1.45060344, 'qed': 0.5501217966938848}, medicinal_chemistry={'synthetic_accessibility': 4.51, 'qed': 0.5501217966938848}, lipophilicity={'ilogp': 1.3729848, 'xlogp3': 1.4253888000000001, 'wlogp': 1.3101, 'mlogp': 1.5434232479999999, 'silicos_it': 1.6241932920000002, 'consensus_logp': 1.45060344}, druglikeness={'lipinski_violations': [], 'bioavailability_score': 0.85}, absorption={'caco2': -4.406400482370849, 'pampa': 0.2673666700720787, 'mdck': -4.24320169034944, 'hia': 0.9971104025840759, 'pgp_substrate': 0.00825292665977031, 'pgp_inhibitor': 0.55}, distribution={'vdss': 6.688882144785967, 'ppb': 73.18028435667074, 'bbb': 0.8109905123710632, 'fu': 26.81971564332926}, metabolism={'cyp2c9_inhibition': 0.031664181500673294, 'cyp2d6_inhibition': 0.006942124478518963, 'cyp3a4_inhibition': 0.00023585804883623495}, excretion={'half_life': 3.5387631247176308, 'clearance': 9.309}, toxicity={'herg': 0.0033732878742739557}, warnings=[]),\n",
       " MoleculeMetrics(smiles='CCO', molecular_formula='C2H6O', molecular_weight=46.041864812, physicochemical={'tpsa': 20.23, 'logp': 0.11397898476190475, 'qed': 0.40680796565539457}, medicinal_chemistry={'synthetic_accessibility': 3.77, 'qed': 0.40680796565539457}, lipophilicity={'ilogp': -0.001467200000000013, 'xlogp3': -0.0015232000000000136, 'wlogp': -0.0014000000000000123, 'mlogp': 0.40840332799999995, 'silicos_it': 0.19473962200000003, 'consensus_logp': 0.11397898476190475}, druglikeness={'lipinski_violations': [], 'bioavailability_score': 0.85}, absorption={'caco2': -4.069675017362479, 'pampa': 0.6344833046197891, 'mdck': -4.51784167459248, 'hia': 0.9967907905578614, 'pgp_substrate': 0.00432682583341375, 'pgp_inhibitor': 0.5}, distribution={'vdss': 4.972024101804672, 'ppb': 3.9905260156173967, 'bbb': 0.9718312859535218, 'fu': 96.00947398438261}, metabolism={'cyp2c9_inhibition': 0.0004959922043781262, 'cyp2d6_inhibition': 4.968685179846943e-05, 'cyp3a4_inhibition': 7.176195364166916e-07}, excretion={'half_life': 19.515907602596645, 'clearance': 22.232}, toxicity={'herg': 0.010593869246076793}, warnings=[]),\n",
       " MoleculeMetrics(smiles='Cn1c(=O)c2c(ncn2C)n(C)c1=O', molecular_formula='C8H10N4O2', molecular_weight=194.08037556, physicochemical={'tpsa': 61.82, 'logp': -0.7078467038095239, 'qed': 0.5384628262372215}, medicinal_chemistry={'synthetic_accessibility': 4.77, 'qed': 0.5384628262372215}, lipophilicity={'ilogp': -1.0787064000000002, 'xlogp3': -1.1198784000000002, 'wlogp': -1.0293, 'mlogp': -0.14689715999999992, 'silicos_it': -0.07461867499999991, 'consensus_logp': -0.7078467038095239}, druglikeness={'lipinski_violations': [], 'bioavailability_score': 0.85}, absorption={'caco2': -4.11044124670539, 'pampa': 0.8625985622406006, 'mdck': -4.5537632150224, 'hia': 0.9995101928710938, 'pgp_substrate': 0.10529023855924606, 'pgp_inhibitor': 0.45}, distribution={'vdss': 0.8927318306037556, 'ppb': 29.1686416112481, 'bbb': 0.9697720289230347, 'fu': 70.83135838875191}, metabolism={'cyp2c9_inhibition': 0.0025632610195316374, 'cyp2d6_inhibition': 0.0006807778012444032, 'cyp3a4_inhibition': 0.0020551203342620283}, excretion={'half_life': 5.183052177544661, 'clearance': 4.028}, toxicity={'herg': 0.11492157205939293}, warnings=[])]"
      ]
     },
     "execution_count": 10,
     "metadata": {},
     "output_type": "execute_result"
    }
   ],
   "source": [
    "# viewing list of molecule metrics\n",
    "metrics_for_ranking"
   ]
  },
  {
   "cell_type": "markdown",
   "metadata": {},
   "source": [
    "## 5. Custom Scoring Configuration (Brief Mention)\n",
    "\n",
    "The `SmallMoleculeRankerV4` uses a `ScoringConfig` class that defines weights for metric categories and specific scoring functions for individual properties. While the default uses equal weighting, you could potentially subclass or modify `ScoringConfig` for custom ranking behavior. This is an advanced topic not fully covered here."
   ]
  },
  {
   "cell_type": "code",
   "execution_count": null,
   "metadata": {},
   "outputs": [],
   "source": [
    "default_config = ScoringConfig()\n",
    "print(\"Default category weights:\")\n",
    "for category, weight in default_config.category_weights.items():\n",
    "    print(f\"  {category.value}: {weight}\")\n",
    "\n",
    "print(\"\\nExample property config for TPSA (first few lines):\")\n",
    "print(default_config.property_configs.get('tpsa'))"
   ]
  },
  {
   "cell_type": "markdown",
   "metadata": {},
   "source": [
    "## Conclusion\n",
    "\n",
    "This notebook provided a basic overview of using the `moremi_biokit.smiles` subpackage. You can now:\n",
    "- Validate individual SMILES strings and retrieve detailed metrics.\n",
    "- Process batches of SMILES strings from files.\n",
    "- Understand where to find the output reports and rankings.\n",
    "- (Optionally) Perform direct ranking if you have `MoleculeMetrics` objects.\n",
    "\n",
    "Refer to the source code and docstrings of the respective classes for more detailed information on configurations and capabilities."
   ]
  }
 ],
 "metadata": {
  "kernelspec": {
   "display_name": "lisa-moremi",
   "language": "python",
   "name": "python3"
  },
  "language_info": {
   "codemirror_mode": {
    "name": "ipython",
    "version": 3
   },
   "file_extension": ".py",
   "mimetype": "text/x-python",
   "name": "python",
   "nbconvert_exporter": "python",
   "pygments_lexer": "ipython3",
   "version": "3.10.9"
  }
 },
 "nbformat": 4,
 "nbformat_minor": 2
}
